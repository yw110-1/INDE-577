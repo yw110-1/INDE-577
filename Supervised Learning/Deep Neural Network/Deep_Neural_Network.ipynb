{
  "nbformat": 4,
  "nbformat_minor": 0,
  "metadata": {
    "colab": {
      "provenance": []
    },
    "kernelspec": {
      "name": "python3",
      "display_name": "Python 3"
    },
    "language_info": {
      "name": "python"
    }
  },
  "cells": [
    {
      "cell_type": "markdown",
      "source": [
        "# Deep Neural Network"
      ],
      "metadata": {
        "id": "qgn3w-Zuyl02"
      }
    },
    {
      "cell_type": "markdown",
      "source": [
        "Now we want to build a deep neural network using fashion MNIST dataset. The network can also be known as multi-layer perceptron model."
      ],
      "metadata": {
        "id": "JnVEh5uqypCH"
      }
    },
    {
      "cell_type": "markdown",
      "source": [
        "## Import Tensorflow"
      ],
      "metadata": {
        "id": "2MpjQe5My977"
      }
    },
    {
      "cell_type": "code",
      "source": [
        "#!pip install tensorflow\n",
        "from tensorflow import keras \n",
        "import numpy as np\n",
        "import matplotlib.pyplot as plt"
      ],
      "metadata": {
        "id": "Vh72b26lyooV"
      },
      "execution_count": 3,
      "outputs": []
    },
    {
      "cell_type": "markdown",
      "source": [
        "## Build training dataset"
      ],
      "metadata": {
        "id": "6tm3fCsJzX-i"
      }
    },
    {
      "cell_type": "code",
      "execution_count": 19,
      "metadata": {
        "id": "SC-pYu51wh5t"
      },
      "outputs": [],
      "source": [
        "# Use the keras module to import the necessary data \n",
        "(train_X, train_y), (test_X, test_y) = keras.datasets.fashion_mnist.load_data()"
      ]
    },
    {
      "cell_type": "code",
      "source": [
        "print(f\"np.shape(train_X) ={np.shape(train_X)}\")\n",
        "print(f\"np.shape(test_X) = {np.shape(test_X)} \\n\")\n",
        "\n",
        "print(f\"np.shape(train_X[0]) = {np.shape(train_X[0])}\")\n",
        "print(f\"np.shape(test_X[0]) = {np.shape(test_X[0])} \\n\")\n",
        "\n",
        "print(f\"train_X[0] = {train_X[0]}\")"
      ],
      "metadata": {
        "colab": {
          "base_uri": "https://localhost:8080/"
        },
        "id": "vMBUEOB7zI5h",
        "outputId": "dd2b781b-51aa-46ac-b0ac-02835b660310"
      },
      "execution_count": 11,
      "outputs": [
        {
          "output_type": "stream",
          "name": "stdout",
          "text": [
            "np.shape(train_X) =(60000, 28, 28)\n",
            "np.shape(test_X) = (10000, 28, 28) \n",
            "\n",
            "np.shape(train_X[0]) = (28, 28)\n",
            "np.shape(test_X[0]) = (28, 28) \n",
            "\n",
            "train_X[0] = [[  0   0   0   0   0   0   0   0   0   0   0   0   0   0   0   0   0   0\n",
            "    0   0   0   0   0   0   0   0   0   0]\n",
            " [  0   0   0   0   0   0   0   0   0   0   0   0   0   0   0   0   0   0\n",
            "    0   0   0   0   0   0   0   0   0   0]\n",
            " [  0   0   0   0   0   0   0   0   0   0   0   0   0   0   0   0   0   0\n",
            "    0   0   0   0   0   0   0   0   0   0]\n",
            " [  0   0   0   0   0   0   0   0   0   0   0   0   1   0   0  13  73   0\n",
            "    0   1   4   0   0   0   0   1   1   0]\n",
            " [  0   0   0   0   0   0   0   0   0   0   0   0   3   0  36 136 127  62\n",
            "   54   0   0   0   1   3   4   0   0   3]\n",
            " [  0   0   0   0   0   0   0   0   0   0   0   0   6   0 102 204 176 134\n",
            "  144 123  23   0   0   0   0  12  10   0]\n",
            " [  0   0   0   0   0   0   0   0   0   0   0   0   0   0 155 236 207 178\n",
            "  107 156 161 109  64  23  77 130  72  15]\n",
            " [  0   0   0   0   0   0   0   0   0   0   0   1   0  69 207 223 218 216\n",
            "  216 163 127 121 122 146 141  88 172  66]\n",
            " [  0   0   0   0   0   0   0   0   0   1   1   1   0 200 232 232 233 229\n",
            "  223 223 215 213 164 127 123 196 229   0]\n",
            " [  0   0   0   0   0   0   0   0   0   0   0   0   0 183 225 216 223 228\n",
            "  235 227 224 222 224 221 223 245 173   0]\n",
            " [  0   0   0   0   0   0   0   0   0   0   0   0   0 193 228 218 213 198\n",
            "  180 212 210 211 213 223 220 243 202   0]\n",
            " [  0   0   0   0   0   0   0   0   0   1   3   0  12 219 220 212 218 192\n",
            "  169 227 208 218 224 212 226 197 209  52]\n",
            " [  0   0   0   0   0   0   0   0   0   0   6   0  99 244 222 220 218 203\n",
            "  198 221 215 213 222 220 245 119 167  56]\n",
            " [  0   0   0   0   0   0   0   0   0   4   0   0  55 236 228 230 228 240\n",
            "  232 213 218 223 234 217 217 209  92   0]\n",
            " [  0   0   1   4   6   7   2   0   0   0   0   0 237 226 217 223 222 219\n",
            "  222 221 216 223 229 215 218 255  77   0]\n",
            " [  0   3   0   0   0   0   0   0   0  62 145 204 228 207 213 221 218 208\n",
            "  211 218 224 223 219 215 224 244 159   0]\n",
            " [  0   0   0   0  18  44  82 107 189 228 220 222 217 226 200 205 211 230\n",
            "  224 234 176 188 250 248 233 238 215   0]\n",
            " [  0  57 187 208 224 221 224 208 204 214 208 209 200 159 245 193 206 223\n",
            "  255 255 221 234 221 211 220 232 246   0]\n",
            " [  3 202 228 224 221 211 211 214 205 205 205 220 240  80 150 255 229 221\n",
            "  188 154 191 210 204 209 222 228 225   0]\n",
            " [ 98 233 198 210 222 229 229 234 249 220 194 215 217 241  65  73 106 117\n",
            "  168 219 221 215 217 223 223 224 229  29]\n",
            " [ 75 204 212 204 193 205 211 225 216 185 197 206 198 213 240 195 227 245\n",
            "  239 223 218 212 209 222 220 221 230  67]\n",
            " [ 48 203 183 194 213 197 185 190 194 192 202 214 219 221 220 236 225 216\n",
            "  199 206 186 181 177 172 181 205 206 115]\n",
            " [  0 122 219 193 179 171 183 196 204 210 213 207 211 210 200 196 194 191\n",
            "  195 191 198 192 176 156 167 177 210  92]\n",
            " [  0   0  74 189 212 191 175 172 175 181 185 188 189 188 193 198 204 209\n",
            "  210 210 211 188 188 194 192 216 170   0]\n",
            " [  2   0   0   0  66 200 222 237 239 242 246 243 244 221 220 193 191 179\n",
            "  182 182 181 176 166 168  99  58   0   0]\n",
            " [  0   0   0   0   0   0   0  40  61  44  72  41  35   0   0   0   0   0\n",
            "    0   0   0   0   0   0   0   0   0   0]\n",
            " [  0   0   0   0   0   0   0   0   0   0   0   0   0   0   0   0   0   0\n",
            "    0   0   0   0   0   0   0   0   0   0]\n",
            " [  0   0   0   0   0   0   0   0   0   0   0   0   0   0   0   0   0   0\n",
            "    0   0   0   0   0   0   0   0   0   0]]\n"
          ]
        }
      ]
    },
    {
      "cell_type": "markdown",
      "source": [
        "We want to divide the dataset by 260 so that the floating point numbers are in the interval (0, 1), where darker pixels will have values closer to 1 and lighter pixels will have values closer to 0. "
      ],
      "metadata": {
        "id": "p2zDdPoh0YIz"
      }
    },
    {
      "cell_type": "code",
      "source": [
        "train_X, test_X = train_X/260, test_X/260\n",
        "print(f\"train_X[0] = {train_X[0]}\")"
      ],
      "metadata": {
        "colab": {
          "base_uri": "https://localhost:8080/"
        },
        "id": "3LfaHVLN0Xdz",
        "outputId": "1883f71d-81ab-4d2e-dbb1-b2778cd61a52"
      },
      "execution_count": 21,
      "outputs": [
        {
          "output_type": "stream",
          "name": "stdout",
          "text": [
            "train_X[0] = [[0.         0.         0.         0.         0.         0.\n",
            "  0.         0.         0.         0.         0.         0.\n",
            "  0.         0.         0.         0.         0.         0.\n",
            "  0.         0.         0.         0.         0.         0.\n",
            "  0.         0.         0.         0.        ]\n",
            " [0.         0.         0.         0.         0.         0.\n",
            "  0.         0.         0.         0.         0.         0.\n",
            "  0.         0.         0.         0.         0.         0.\n",
            "  0.         0.         0.         0.         0.         0.\n",
            "  0.         0.         0.         0.        ]\n",
            " [0.         0.         0.         0.         0.         0.\n",
            "  0.         0.         0.         0.         0.         0.\n",
            "  0.         0.         0.         0.         0.         0.\n",
            "  0.         0.         0.         0.         0.         0.\n",
            "  0.         0.         0.         0.        ]\n",
            " [0.         0.         0.         0.         0.         0.\n",
            "  0.         0.         0.         0.         0.         0.\n",
            "  0.00384615 0.         0.         0.05       0.28076923 0.\n",
            "  0.         0.00384615 0.01538462 0.         0.         0.\n",
            "  0.         0.00384615 0.00384615 0.        ]\n",
            " [0.         0.         0.         0.         0.         0.\n",
            "  0.         0.         0.         0.         0.         0.\n",
            "  0.01153846 0.         0.13846154 0.52307692 0.48846154 0.23846154\n",
            "  0.20769231 0.         0.         0.         0.00384615 0.01153846\n",
            "  0.01538462 0.         0.         0.01153846]\n",
            " [0.         0.         0.         0.         0.         0.\n",
            "  0.         0.         0.         0.         0.         0.\n",
            "  0.02307692 0.         0.39230769 0.78461538 0.67692308 0.51538462\n",
            "  0.55384615 0.47307692 0.08846154 0.         0.         0.\n",
            "  0.         0.04615385 0.03846154 0.        ]\n",
            " [0.         0.         0.         0.         0.         0.\n",
            "  0.         0.         0.         0.         0.         0.\n",
            "  0.         0.         0.59615385 0.90769231 0.79615385 0.68461538\n",
            "  0.41153846 0.6        0.61923077 0.41923077 0.24615385 0.08846154\n",
            "  0.29615385 0.5        0.27692308 0.05769231]\n",
            " [0.         0.         0.         0.         0.         0.\n",
            "  0.         0.         0.         0.         0.         0.00384615\n",
            "  0.         0.26538462 0.79615385 0.85769231 0.83846154 0.83076923\n",
            "  0.83076923 0.62692308 0.48846154 0.46538462 0.46923077 0.56153846\n",
            "  0.54230769 0.33846154 0.66153846 0.25384615]\n",
            " [0.         0.         0.         0.         0.         0.\n",
            "  0.         0.         0.         0.00384615 0.00384615 0.00384615\n",
            "  0.         0.76923077 0.89230769 0.89230769 0.89615385 0.88076923\n",
            "  0.85769231 0.85769231 0.82692308 0.81923077 0.63076923 0.48846154\n",
            "  0.47307692 0.75384615 0.88076923 0.        ]\n",
            " [0.         0.         0.         0.         0.         0.\n",
            "  0.         0.         0.         0.         0.         0.\n",
            "  0.         0.70384615 0.86538462 0.83076923 0.85769231 0.87692308\n",
            "  0.90384615 0.87307692 0.86153846 0.85384615 0.86153846 0.85\n",
            "  0.85769231 0.94230769 0.66538462 0.        ]\n",
            " [0.         0.         0.         0.         0.         0.\n",
            "  0.         0.         0.         0.         0.         0.\n",
            "  0.         0.74230769 0.87692308 0.83846154 0.81923077 0.76153846\n",
            "  0.69230769 0.81538462 0.80769231 0.81153846 0.81923077 0.85769231\n",
            "  0.84615385 0.93461538 0.77692308 0.        ]\n",
            " [0.         0.         0.         0.         0.         0.\n",
            "  0.         0.         0.         0.00384615 0.01153846 0.\n",
            "  0.04615385 0.84230769 0.84615385 0.81538462 0.83846154 0.73846154\n",
            "  0.65       0.87307692 0.8        0.83846154 0.86153846 0.81538462\n",
            "  0.86923077 0.75769231 0.80384615 0.2       ]\n",
            " [0.         0.         0.         0.         0.         0.\n",
            "  0.         0.         0.         0.         0.02307692 0.\n",
            "  0.38076923 0.93846154 0.85384615 0.84615385 0.83846154 0.78076923\n",
            "  0.76153846 0.85       0.82692308 0.81923077 0.85384615 0.84615385\n",
            "  0.94230769 0.45769231 0.64230769 0.21538462]\n",
            " [0.         0.         0.         0.         0.         0.\n",
            "  0.         0.         0.         0.01538462 0.         0.\n",
            "  0.21153846 0.90769231 0.87692308 0.88461538 0.87692308 0.92307692\n",
            "  0.89230769 0.81923077 0.83846154 0.85769231 0.9        0.83461538\n",
            "  0.83461538 0.80384615 0.35384615 0.        ]\n",
            " [0.         0.         0.00384615 0.01538462 0.02307692 0.02692308\n",
            "  0.00769231 0.         0.         0.         0.         0.\n",
            "  0.91153846 0.86923077 0.83461538 0.85769231 0.85384615 0.84230769\n",
            "  0.85384615 0.85       0.83076923 0.85769231 0.88076923 0.82692308\n",
            "  0.83846154 0.98076923 0.29615385 0.        ]\n",
            " [0.         0.01153846 0.         0.         0.         0.\n",
            "  0.         0.         0.         0.23846154 0.55769231 0.78461538\n",
            "  0.87692308 0.79615385 0.81923077 0.85       0.83846154 0.8\n",
            "  0.81153846 0.83846154 0.86153846 0.85769231 0.84230769 0.82692308\n",
            "  0.86153846 0.93846154 0.61153846 0.        ]\n",
            " [0.         0.         0.         0.         0.06923077 0.16923077\n",
            "  0.31538462 0.41153846 0.72692308 0.87692308 0.84615385 0.85384615\n",
            "  0.83461538 0.86923077 0.76923077 0.78846154 0.81153846 0.88461538\n",
            "  0.86153846 0.9        0.67692308 0.72307692 0.96153846 0.95384615\n",
            "  0.89615385 0.91538462 0.82692308 0.        ]\n",
            " [0.         0.21923077 0.71923077 0.8        0.86153846 0.85\n",
            "  0.86153846 0.8        0.78461538 0.82307692 0.8        0.80384615\n",
            "  0.76923077 0.61153846 0.94230769 0.74230769 0.79230769 0.85769231\n",
            "  0.98076923 0.98076923 0.85       0.9        0.85       0.81153846\n",
            "  0.84615385 0.89230769 0.94615385 0.        ]\n",
            " [0.01153846 0.77692308 0.87692308 0.86153846 0.85       0.81153846\n",
            "  0.81153846 0.82307692 0.78846154 0.78846154 0.78846154 0.84615385\n",
            "  0.92307692 0.30769231 0.57692308 0.98076923 0.88076923 0.85\n",
            "  0.72307692 0.59230769 0.73461538 0.80769231 0.78461538 0.80384615\n",
            "  0.85384615 0.87692308 0.86538462 0.        ]\n",
            " [0.37692308 0.89615385 0.76153846 0.80769231 0.85384615 0.88076923\n",
            "  0.88076923 0.9        0.95769231 0.84615385 0.74615385 0.82692308\n",
            "  0.83461538 0.92692308 0.25       0.28076923 0.40769231 0.45\n",
            "  0.64615385 0.84230769 0.85       0.82692308 0.83461538 0.85769231\n",
            "  0.85769231 0.86153846 0.88076923 0.11153846]\n",
            " [0.28846154 0.78461538 0.81538462 0.78461538 0.74230769 0.78846154\n",
            "  0.81153846 0.86538462 0.83076923 0.71153846 0.75769231 0.79230769\n",
            "  0.76153846 0.81923077 0.92307692 0.75       0.87307692 0.94230769\n",
            "  0.91923077 0.85769231 0.83846154 0.81538462 0.80384615 0.85384615\n",
            "  0.84615385 0.85       0.88461538 0.25769231]\n",
            " [0.18461538 0.78076923 0.70384615 0.74615385 0.81923077 0.75769231\n",
            "  0.71153846 0.73076923 0.74615385 0.73846154 0.77692308 0.82307692\n",
            "  0.84230769 0.85       0.84615385 0.90769231 0.86538462 0.83076923\n",
            "  0.76538462 0.79230769 0.71538462 0.69615385 0.68076923 0.66153846\n",
            "  0.69615385 0.78846154 0.79230769 0.44230769]\n",
            " [0.         0.46923077 0.84230769 0.74230769 0.68846154 0.65769231\n",
            "  0.70384615 0.75384615 0.78461538 0.80769231 0.81923077 0.79615385\n",
            "  0.81153846 0.80769231 0.76923077 0.75384615 0.74615385 0.73461538\n",
            "  0.75       0.73461538 0.76153846 0.73846154 0.67692308 0.6\n",
            "  0.64230769 0.68076923 0.80769231 0.35384615]\n",
            " [0.         0.         0.28461538 0.72692308 0.81538462 0.73461538\n",
            "  0.67307692 0.66153846 0.67307692 0.69615385 0.71153846 0.72307692\n",
            "  0.72692308 0.72307692 0.74230769 0.76153846 0.78461538 0.80384615\n",
            "  0.80769231 0.80769231 0.81153846 0.72307692 0.72307692 0.74615385\n",
            "  0.73846154 0.83076923 0.65384615 0.        ]\n",
            " [0.00769231 0.         0.         0.         0.25384615 0.76923077\n",
            "  0.85384615 0.91153846 0.91923077 0.93076923 0.94615385 0.93461538\n",
            "  0.93846154 0.85       0.84615385 0.74230769 0.73461538 0.68846154\n",
            "  0.7        0.7        0.69615385 0.67692308 0.63846154 0.64615385\n",
            "  0.38076923 0.22307692 0.         0.        ]\n",
            " [0.         0.         0.         0.         0.         0.\n",
            "  0.         0.15384615 0.23461538 0.16923077 0.27692308 0.15769231\n",
            "  0.13461538 0.         0.         0.         0.         0.\n",
            "  0.         0.         0.         0.         0.         0.\n",
            "  0.         0.         0.         0.        ]\n",
            " [0.         0.         0.         0.         0.         0.\n",
            "  0.         0.         0.         0.         0.         0.\n",
            "  0.         0.         0.         0.         0.         0.\n",
            "  0.         0.         0.         0.         0.         0.\n",
            "  0.         0.         0.         0.        ]\n",
            " [0.         0.         0.         0.         0.         0.\n",
            "  0.         0.         0.         0.         0.         0.\n",
            "  0.         0.         0.         0.         0.         0.\n",
            "  0.         0.         0.         0.         0.         0.\n",
            "  0.         0.         0.         0.        ]]\n"
          ]
        }
      ]
    },
    {
      "cell_type": "markdown",
      "source": [
        "Each image is comprised of a $28 × 28$ grey scaled grid of pixel values. The following image represents one such example."
      ],
      "metadata": {
        "id": "7ItpvHQmztnU"
      }
    },
    {
      "cell_type": "code",
      "source": [
        "print(f\"{train_y[0] = } \\n\")\n",
        "plt.figure(figsize=(6, 5))\n",
        "plt.imshow(train_X[0], cmap=\"gray\")\n",
        "plt.show()"
      ],
      "metadata": {
        "colab": {
          "base_uri": "https://localhost:8080/",
          "height": 356
        },
        "id": "XeC4eunczUX6",
        "outputId": "86a1ce44-b695-4f9f-a89c-b5732b24381e"
      },
      "execution_count": 22,
      "outputs": [
        {
          "output_type": "stream",
          "name": "stdout",
          "text": [
            "train_y[0] = 9 \n",
            "\n"
          ]
        },
        {
          "output_type": "display_data",
          "data": {
            "text/plain": [
              "<Figure size 432x360 with 1 Axes>"
            ],
            "image/png": "[encoded data removed]"
          },
          "metadata": {
            "needs_background": "light"
          }
        }
      ]
    },
    {
      "cell_type": "markdown",
      "source": [
        "## Image Flattening"
      ],
      "metadata": {
        "id": "xTojgcQY1iSz"
      }
    },
    {
      "cell_type": "markdown",
      "source": [
        "The following code scales our training and testing data, reshapes our images and stores them in new variable names, and one-hot encodes the labels."
      ],
      "metadata": {
        "id": "vt_zCJmx1z2B"
      }
    },
    {
      "cell_type": "code",
      "source": [
        "# Flatten the training images into coloumn vectors. \n",
        "flat_train_X = []\n",
        "# One hot encode the training labels\n",
        "onehot_train_y = []\n",
        "\n",
        "for x, y in zip(train_X, train_y):\n",
        "    flat_train_X.append(x.flatten().reshape(784, 1))\n",
        "    temp_vec = np.zeros((10, 1))\n",
        "    temp_vec[y][0] = 1.0\n",
        "    onehot_train_y.append(temp_vec)\n",
        "   \n",
        "\n",
        "# Do the same for the testing data \n",
        "flat_test_X = []\n",
        "onehot_test_y = []\n",
        "\n",
        "for x, y in zip(test_X, test_y):\n",
        "    flat_test_X.append(x.flatten().reshape(784, 1))\n",
        "    temp_vec = np.zeros((10, 1))\n",
        "    temp_vec[y] = 1.0\n",
        "    onehot_test_y.append(temp_vec)"
      ],
      "metadata": {
        "id": "1EYvu3bK1bUL"
      },
      "execution_count": 23,
      "outputs": []
    },
    {
      "cell_type": "markdown",
      "source": [
        "## Building the Network Architecture"
      ],
      "metadata": {
        "id": "62Sd6aWR1tI2"
      }
    },
    {
      "cell_type": "markdown",
      "source": [
        "First we will define our sigmoid activation function, its derivative, and the mean squared error for a single instance of training data."
      ],
      "metadata": {
        "id": "65-LinWW14PH"
      }
    },
    {
      "cell_type": "code",
      "source": [
        "def sigmoid(z):\n",
        "    return 1.0/(1.0+np.exp(-z))\n",
        "\n",
        "def d_sigmoid(z):\n",
        "    return sigmoid(z)*(1.0 - sigmoid(z))\n",
        "\n",
        "def mse(a, y):\n",
        "    return .5*sum((a[i] - y[i])**2 for i in range(10))[0]"
      ],
      "metadata": {
        "id": "sevCuNOn1wyt"
      },
      "execution_count": 24,
      "outputs": []
    },
    {
      "cell_type": "markdown",
      "source": [
        "Next we will write a custom function to initialize the weight matrices and bias column vectors for a dense neural network."
      ],
      "metadata": {
        "id": "gLZFWVMP1-C6"
      }
    },
    {
      "cell_type": "code",
      "source": [
        "def initialize_weights(layers = [784, 60, 60, 10]):\n",
        "    # The following Python lists will contain numpy matrices\n",
        "    # connected the layers in the neural network \n",
        "    W = [[0.0]]\n",
        "    B = [[0.0]]\n",
        "    for i in range(1, len(layers)):\n",
        "        # The scalling factor is something I found in a research paper :)\n",
        "        w_temp = np.random.randn(layers[i], layers[i-1])*np.sqrt(2/layers[i-1])\n",
        "        b_temp = np.random.randn(layers[i], 1)*np.sqrt(2/layers[i-1])\n",
        "    \n",
        "        W.append(w_temp)\n",
        "        B.append(b_temp)\n",
        "    return W, B"
      ],
      "metadata": {
        "id": "Gol7hb-62Bzk"
      },
      "execution_count": 25,
      "outputs": []
    },
    {
      "cell_type": "markdown",
      "source": [
        "## Feedforward Phase"
      ],
      "metadata": {
        "id": "F-G_oA2Z18iC"
      }
    },
    {
      "cell_type": "markdown",
      "source": [
        "We can test our activation functions and matrix dimensions by running the following code which manually implements the feedforward process on a neural network with the given dimensions."
      ],
      "metadata": {
        "id": "7BVXEjW32JUc"
      }
    },
    {
      "cell_type": "code",
      "source": [
        "W, B = initialize_weights()\n",
        "\n",
        "xi = flat_train_X[0]\n",
        "yi = onehot_train_y[0]\n",
        "a0 = xi\n",
        "\n",
        "print(f\"np.shape(a0) = {np.shape(a0)} \\n\")\n",
        "\n",
        "z1 = W[1] @ a0 + B[1]\n",
        "a1 = sigmoid(z1)\n",
        "\n",
        "print(f\"np.shape(W[1]) = {np.shape(W[1])}\")\n",
        "print(f\"np.shape(z1) = {np.shape(z1)}\")\n",
        "print(f\"np.shape(a1) = {np.shape(a1)} \\n\")\n",
        "\n",
        "z2 = W[2] @ a1 + B[2]\n",
        "a2 = sigmoid(z2)\n",
        "\n",
        "print(f\"np.shape(W[2]) = {np.shape(W[2])}\")\n",
        "print(f\"np.shape(z2) = {np.shape(z2)}\")\n",
        "print(f\"np.shape(a2) = {np.shape(a2)} \\n\")\n",
        "\n",
        "z3 = W[3] @ a2 + B[3]\n",
        "a3 = sigmoid(z3)\n",
        "y_hat = a3\n",
        "print(f\"np.shape(W[3]) = {np.shape(W[3])}\")\n",
        "print(f\"np.shape(z3) = {np.shape(z3)}\")\n",
        "print(f\"np.shape(a3) = {np.shape(a3)} \\n\")\n",
        "\n",
        "\n",
        "print(f\"Prediction: np.argmax(y_hat) = {np.argmax(y_hat)}\")\n",
        "print(f\"Target Label: np.argmax(yi) = {np.argmax(yi)}\")\n",
        "print(f\"mse(y_hat, yi) = {mse(y_hat, yi)}\")\n"
      ],
      "metadata": {
        "colab": {
          "base_uri": "https://localhost:8080/"
        },
        "id": "aAp6aYvg2HfH",
        "outputId": "447c511a-fca1-4833-a436-52aa9881b324"
      },
      "execution_count": 26,
      "outputs": [
        {
          "output_type": "stream",
          "name": "stdout",
          "text": [
            "np.shape(a0) = (784, 1) \n",
            "\n",
            "np.shape(W[1]) = (60, 784)\n",
            "np.shape(z1) = (60, 1)\n",
            "np.shape(a1) = (60, 1) \n",
            "\n",
            "np.shape(W[2]) = (60, 60)\n",
            "np.shape(z2) = (60, 1)\n",
            "np.shape(a2) = (60, 1) \n",
            "\n",
            "np.shape(W[3]) = (10, 60)\n",
            "np.shape(z3) = (10, 1)\n",
            "np.shape(a3) = (10, 1) \n",
            "\n",
            "Prediction: np.argmax(y_hat) = 2\n",
            "Target Label: np.argmax(yi) = 9\n",
            "mse(y_hat, yi) = 1.4984907404144538\n"
          ]
        }
      ]
    },
    {
      "cell_type": "markdown",
      "source": [
        "Obviously we could wrap all these lines of code into a ```for-loop``` and place it in a callable function."
      ],
      "metadata": {
        "id": "FoVSnc5s2Obq"
      }
    },
    {
      "cell_type": "code",
      "source": [
        "def forward_pass(W, B, xi, predict_vector = False):\n",
        "    Z = [[0.0]]\n",
        "    A = [xi]\n",
        "    L = len(W) - 1\n",
        "    for i in range(1, L + 1):\n",
        "        z = W[i] @ A[i-1] + B[i]\n",
        "        Z.append(z)\n",
        "        \n",
        "        a = sigmoid(z)\n",
        "        A.append(a)\n",
        "        \n",
        "    if predict_vector == False:\n",
        "        return Z, A\n",
        "    else:\n",
        "        return A[-1]\n",
        "\n",
        "def predict(W, B, xi):\n",
        "    _, A = forward_pass(W, B, xi)\n",
        "    return np.argmax(A[-1])\n",
        "\n",
        "y_hat = forward_pass(W, B, flat_train_X[0], predict_vector=True)\n",
        "print(f\"Prediction: np.argmax(y_hat) = {np.argmax(y_hat)}\")\n",
        "print(f\"Target Label: np.argmax(yi) = {np.argmax(yi)}\")\n",
        "print(f\"mse(y_hat, yi) = {mse(y_hat, yi)}\")"
      ],
      "metadata": {
        "colab": {
          "base_uri": "https://localhost:8080/"
        },
        "id": "j7cdcgAt2M0i",
        "outputId": "a4c9a2c9-6912-4299-d1a3-4d3c4ed6e422"
      },
      "execution_count": 27,
      "outputs": [
        {
          "output_type": "stream",
          "name": "stdout",
          "text": [
            "Prediction: np.argmax(y_hat) = 2\n",
            "Target Label: np.argmax(yi) = 9\n",
            "mse(y_hat, yi) = 1.4984907404144538\n"
          ]
        }
      ]
    },
    {
      "cell_type": "markdown",
      "source": [
        "Next, we write a custom function for making a prediction on a random data point, as well as write a mean squared error function that computes the error over an entire set of features and labels."
      ],
      "metadata": {
        "id": "tO0B2p8_2WFx"
      }
    },
    {
      "cell_type": "code",
      "source": [
        "def random_experiment(W, B, data_features, data_labels):\n",
        "    i = np.random.randint(len(data_features))\n",
        "    print(f\"Actual label: {np.argmax(data_labels[i])}\")\n",
        "    print(f\"Predicted label: {predict(W, B, data_features[i])}\")\n",
        "    \n",
        "\n",
        "def MSE(W, B, X, y):\n",
        "    cost = 0.0\n",
        "    m = 0\n",
        "    for xi, yi in zip(X, y):\n",
        "        a = forward_pass(W, B, xi, predict_vector = True)\n",
        "        cost += mse(a, yi)\n",
        "        m+=1\n",
        "    return cost/m"
      ],
      "metadata": {
        "id": "oLG945wv2UNd"
      },
      "execution_count": 28,
      "outputs": []
    },
    {
      "cell_type": "code",
      "source": [
        "print(f\"MSE(W, B, flat_train_X, onehot_train_y) = {MSE(W, B, flat_train_X, onehot_train_y)} \\n\")\n",
        "\n",
        "random_experiment(W, B, flat_train_X, onehot_train_y)"
      ],
      "metadata": {
        "colab": {
          "base_uri": "https://localhost:8080/"
        },
        "id": "qRCSfGAL2asV",
        "outputId": "86007692-f68c-4c51-d2e4-5aa46c5990bc"
      },
      "execution_count": 29,
      "outputs": [
        {
          "output_type": "stream",
          "name": "stdout",
          "text": [
            "MSE(W, B, flat_train_X, onehot_train_y) = 1.3255363503250714 \n",
            "\n",
            "Actual label: 4\n",
            "Predicted label: 2\n"
          ]
        }
      ]
    },
    {
      "cell_type": "markdown",
      "source": [
        "## Backpropogation Phase with Stochastic Gradient Descent"
      ],
      "metadata": {
        "id": "HbA9Nwj62dTi"
      }
    },
    {
      "cell_type": "markdown",
      "source": [
        "We are now ready to define a custom Python DenseNetwork class which initializes the weights and bias for the network, and implements stochastic gradient descent."
      ],
      "metadata": {
        "id": "3XF78_ez2m66"
      }
    },
    {
      "cell_type": "code",
      "source": [
        "class DenseNetwork(object):\n",
        "    def __init__(self, layers = [784, 60, 60, 10]):\n",
        "        self.layers = layers\n",
        "        self.W, self.B = initialize_weights(layers = self.layers)\n",
        "\n",
        "    def train(self, X_train, y_train, alpha = 0.046, epochs = 4):\n",
        "        # Print the initial mean squared error\n",
        "        self.errors_ = [MSE(self.W, self.B, X_train, y_train)]\n",
        "        print(f\"Starting Cost = {self.errors_[0]}\")\n",
        "\n",
        "        # Find your sample size\n",
        "        sample_size = len(X_train)\n",
        "\n",
        "        # Find the number of non-input layers.\n",
        "        L = len(self.layers) - 1\n",
        "\n",
        "        # For each epoch perform stochastic gradient descent. \n",
        "        for k in range(epochs):\n",
        "            # Loop over each (xi, yi) training pair of data.\n",
        "            for xi, yi in zip(X_train, y_train):\n",
        "                # Use the forward pass function defined before\n",
        "                # and find the preactivation and postactivation values.\n",
        "                Z, A = forward_pass(self.W, self.B, xi)\n",
        "\n",
        "                # Store the errors in a dictionary for clear interpretation\n",
        "                # of computation of these values.\n",
        "                deltas = dict()\n",
        "\n",
        "                # Compute the output error \n",
        "                output_error = (A[L] - yi)*d_sigmoid(Z[L])\n",
        "                deltas[L] = output_error\n",
        "\n",
        "                # Loop from L-1 to 1. Recall the right entry of the range function \n",
        "                # is non-inclusive. \n",
        "                for i in range(L-1, 0, -1):\n",
        "                    # Compute the node errors at each hidden layer\n",
        "                    deltas[i] = (self.W[i+1].T @ deltas[i+1])*d_sigmoid(Z[i])\n",
        "\n",
        "                # Loop over each hidden layer and the output layer to perform gradient \n",
        "                # descent. \n",
        "                for i in range(1, L+1):\n",
        "                    self.W[i] -= alpha*deltas[i] @ A[i-1].T\n",
        "                    self.B[i] -= alpha*deltas[i]\n",
        "\n",
        "            # Show the user the cost over all training examples\n",
        "            self.errors_.append(MSE(self.W, self.B, X_train, y_train))   \n",
        "            print(f\"{k + 1}-Epoch Cost = {self.errors_[-1]}\")\n",
        "    \n",
        "\n",
        "    def predict(self, xi):\n",
        "        depth = len(self.layers)\n",
        "        _, A = forward_pass(self.W, self.B, xi)\n",
        "        return np.argmax(A[-1])"
      ],
      "metadata": {
        "id": "PGvGxiZq2gVi"
      },
      "execution_count": 30,
      "outputs": []
    },
    {
      "cell_type": "code",
      "source": [
        "# Initialize a network with 784 input nodes, two hidden layers with 60 nodes each \n",
        "# and a output layer with 10 nodes. \n",
        "net = DenseNetwork(layers = [784, 120, 145, 120, 10])\n",
        "\n",
        "# Check the mean squared error before training \n",
        "print(f\"MSE(net.W, net.B, flat_train_X, onehot_train_y) = {MSE(net.W, net.B, flat_train_X, onehot_train_y)} \\n\")\n",
        "\n",
        "# Make a random prediction before training\n",
        "i = np.random.randint(0, len(flat_test_X))\n",
        "prediction = net.predict(flat_test_X[i])\n",
        "print(f\"predicted digit is: {prediction}\")\n",
        "print(f\"actual digit is: {np.argmax(onehot_test_y[i])}\")\n",
        "plt.figure(figsize=(8, 8))\n",
        "plt.imshow(test_X[i], cmap=\"gray\")\n",
        "plt.show()"
      ],
      "metadata": {
        "colab": {
          "base_uri": "https://localhost:8080/",
          "height": 554
        },
        "id": "OR_OGWT42tpY",
        "outputId": "7c8f8e37-4ec6-43f8-b5dd-97ff15879bdf"
      },
      "execution_count": 31,
      "outputs": [
        {
          "output_type": "stream",
          "name": "stdout",
          "text": [
            "MSE(net.W, net.B, flat_train_X, onehot_train_y) = 1.2469707474515135 \n",
            "\n",
            "predicted digit is: 8\n",
            "actual digit is: 2\n"
          ]
        },
        {
          "output_type": "display_data",
          "data": {
            "text/plain": [
              "<Figure size 576x576 with 1 Axes>"
            ],
            "image/png": "[encoded data removed]"
          },
          "metadata": {
            "needs_background": "light"
          }
        }
      ]
    },
    {
      "cell_type": "code",
      "source": [
        "# Train your network with stochastic gradient descent!\n",
        "net.train(flat_train_X, onehot_train_y)"
      ],
      "metadata": {
        "colab": {
          "base_uri": "https://localhost:8080/"
        },
        "id": "EE_JeldR2whQ",
        "outputId": "799f92f6-7046-478e-f73c-e58b3ca5248a"
      },
      "execution_count": 32,
      "outputs": [
        {
          "output_type": "stream",
          "name": "stdout",
          "text": [
            "Starting Cost = 1.2469707474515135\n",
            "1-Epoch Cost = 0.12957852466657502\n",
            "2-Epoch Cost = 0.11298432746166046\n",
            "3-Epoch Cost = 0.10361937049942198\n",
            "4-Epoch Cost = 0.09779345215699413\n"
          ]
        }
      ]
    },
    {
      "cell_type": "code",
      "source": [
        "# Visualize the mean squared error over the training process \n",
        "plt.figure(figsize = (10, 8))\n",
        "epochs = range(len(net.errors_))\n",
        "plt.plot(epochs, net.errors_, marker = \"o\")\n",
        "plt.xticks(epochs)\n",
        "plt.xlabel(\"epochs\")\n",
        "plt.ylabel(\"Mean Squared Error\")\n",
        "plt.title(\"Network MSE During Training\", fontsize = 16)\n",
        "plt.show()"
      ],
      "metadata": {
        "colab": {
          "base_uri": "https://localhost:8080/",
          "height": 515
        },
        "id": "7lQbDils2zUa",
        "outputId": "409408f7-33ba-442e-a1f5-8ea643ba4653"
      },
      "execution_count": 33,
      "outputs": [
        {
          "output_type": "display_data",
          "data": {
            "text/plain": [
              "<Figure size 720x576 with 1 Axes>"
            ],
            "image/png": "[encoded data removed]"
          },
          "metadata": {
            "needs_background": "light"
          }
        }
      ]
    },
    {
      "cell_type": "code",
      "source": [
        "i = np.random.randint(0, len(flat_test_X))\n",
        "prediction = net.predict(flat_test_X[i])\n",
        "print(f\"predicted digit is: {prediction}\")\n",
        "print(f\"actual digit is: {np.argmax(onehot_test_y[i])}\")\n",
        "plt.figure(figsize=(8, 8))\n",
        "plt.imshow(test_X[i], cmap=\"gray\")\n",
        "plt.show()"
      ],
      "metadata": {
        "colab": {
          "base_uri": "https://localhost:8080/",
          "height": 519
        },
        "id": "zQiwfN4-22B3",
        "outputId": "8eaf480d-21a5-4d47-f7f9-86c1b4982a2f"
      },
      "execution_count": 34,
      "outputs": [
        {
          "output_type": "stream",
          "name": "stdout",
          "text": [
            "predicted digit is: 8\n",
            "actual digit is: 8\n"
          ]
        },
        {
          "output_type": "display_data",
          "data": {
            "text/plain": [
              "<Figure size 576x576 with 1 Axes>"
            ],
            "image/png": "[encoded data removed]"
          },
          "metadata": {
            "needs_background": "light"
          }
        }
      ]
    },
    {
      "cell_type": "code",
      "source": [
        "i = np.random.randint(0, len(flat_test_X))\n",
        "prediction = net.predict(flat_test_X[i])\n",
        "print(f\"predicted digit is: {prediction}\")\n",
        "print(f\"actual digit is: {np.argmax(onehot_test_y[i])}\")\n",
        "plt.figure(figsize=(8, 8))\n",
        "plt.imshow(test_X[i], cmap=\"gray\")\n",
        "plt.show()"
      ],
      "metadata": {
        "colab": {
          "base_uri": "https://localhost:8080/",
          "height": 519
        },
        "id": "RcSrA14X3AK2",
        "outputId": "2881a170-f24f-4d04-f643-c0825eb9225b"
      },
      "execution_count": 35,
      "outputs": [
        {
          "output_type": "stream",
          "name": "stdout",
          "text": [
            "predicted digit is: 4\n",
            "actual digit is: 1\n"
          ]
        },
        {
          "output_type": "display_data",
          "data": {
            "text/plain": [
              "<Figure size 576x576 with 1 Axes>"
            ],
            "image/png": "[encoded data removed]"
          },
          "metadata": {
            "needs_background": "light"
          }
        }
      ]
    },
    {
      "cell_type": "code",
      "source": [
        "i = np.random.randint(0, len(flat_test_X))\n",
        "prediction = net.predict(flat_test_X[i])\n",
        "print(f\"predicted digit is: {prediction}\")\n",
        "print(f\"actual digit is: {np.argmax(onehot_test_y[i])}\")\n",
        "plt.figure(figsize=(8, 8))\n",
        "plt.imshow(test_X[i], cmap=\"gray\")\n",
        "plt.show()"
      ],
      "metadata": {
        "colab": {
          "base_uri": "https://localhost:8080/",
          "height": 519
        },
        "id": "ag8cAxq43D0_",
        "outputId": "7a79012d-9ade-41bc-e9a0-77e545d141c2"
      },
      "execution_count": 36,
      "outputs": [
        {
          "output_type": "stream",
          "name": "stdout",
          "text": [
            "predicted digit is: 9\n",
            "actual digit is: 9\n"
          ]
        },
        {
          "output_type": "display_data",
          "data": {
            "text/plain": [
              "<Figure size 576x576 with 1 Axes>"
            ],
            "image/png": "[encoded data removed]"
          },
          "metadata": {
            "needs_background": "light"
          }
        }
      ]
    },
    {
      "cell_type": "code",
      "source": [
        "i = np.random.randint(0, len(flat_test_X))\n",
        "prediction = net.predict(flat_test_X[i])\n",
        "print(f\"predicted digit is: {prediction}\")\n",
        "print(f\"actual digit is: {np.argmax(onehot_test_y[i])}\")\n",
        "plt.figure(figsize=(8, 8))\n",
        "plt.imshow(test_X[i], cmap=\"gray\")\n",
        "plt.show()"
      ],
      "metadata": {
        "colab": {
          "base_uri": "https://localhost:8080/",
          "height": 519
        },
        "id": "bnDwW4Vg3Fu3",
        "outputId": "b0a4369e-1144-4fa8-ad37-1c1d072cc787"
      },
      "execution_count": 37,
      "outputs": [
        {
          "output_type": "stream",
          "name": "stdout",
          "text": [
            "predicted digit is: 2\n",
            "actual digit is: 4\n"
          ]
        },
        {
          "output_type": "display_data",
          "data": {
            "text/plain": [
              "<Figure size 576x576 with 1 Axes>"
            ],
            "image/png": "[encoded data removed]"
          },
          "metadata": {
            "needs_background": "light"
          }
        }
      ]
    },
    {
      "cell_type": "code",
      "source": [
        "i = np.random.randint(0, len(flat_test_X))\n",
        "prediction = net.predict(flat_test_X[i])\n",
        "print(f\"predicted digit is: {prediction}\")\n",
        "print(f\"actual digit is: {np.argmax(onehot_test_y[i])}\")\n",
        "plt.figure(figsize=(8, 8))\n",
        "plt.imshow(test_X[i], cmap=\"gray\")\n",
        "plt.show()"
      ],
      "metadata": {
        "colab": {
          "base_uri": "https://localhost:8080/",
          "height": 519
        },
        "id": "yFkWY6zb3HdB",
        "outputId": "95061195-0e1e-42ac-a903-5f095b0bbf35"
      },
      "execution_count": 38,
      "outputs": [
        {
          "output_type": "stream",
          "name": "stdout",
          "text": [
            "predicted digit is: 1\n",
            "actual digit is: 1\n"
          ]
        },
        {
          "output_type": "display_data",
          "data": {
            "text/plain": [
              "<Figure size 576x576 with 1 Axes>"
            ],
            "image/png": "[encoded data removed]"
          },
          "metadata": {
            "needs_background": "light"
          }
        }
      ]
    },
    {
      "cell_type": "code",
      "source": [
        "i = np.random.randint(0, len(flat_test_X))\n",
        "prediction = net.predict(flat_test_X[i])\n",
        "print(f\"predicted digit is: {prediction}\")\n",
        "print(f\"actual digit is: {np.argmax(onehot_test_y[i])}\")\n",
        "plt.figure(figsize=(8, 8))\n",
        "plt.imshow(test_X[i], cmap=\"gray\")\n",
        "plt.show()"
      ],
      "metadata": {
        "colab": {
          "base_uri": "https://localhost:8080/",
          "height": 519
        },
        "id": "V2OvtklZ3J_R",
        "outputId": "d17f661e-6fba-4981-cc8f-9abec8cbf838"
      },
      "execution_count": 39,
      "outputs": [
        {
          "output_type": "stream",
          "name": "stdout",
          "text": [
            "predicted digit is: 6\n",
            "actual digit is: 6\n"
          ]
        },
        {
          "output_type": "display_data",
          "data": {
            "text/plain": [
              "<Figure size 576x576 with 1 Axes>"
            ],
            "image/png": "[encoded data removed]"
          },
          "metadata": {
            "needs_background": "light"
          }
        }
      ]
    },
    {
      "cell_type": "code",
      "source": [
        "i = np.random.randint(0, len(flat_test_X))\n",
        "prediction = net.predict(flat_test_X[i])\n",
        "print(f\"predicted digit is: {prediction}\")\n",
        "print(f\"actual digit is: {np.argmax(onehot_test_y[i])}\")\n",
        "plt.figure(figsize=(8, 8))\n",
        "plt.imshow(test_X[i], cmap=\"gray\")\n",
        "plt.show()"
      ],
      "metadata": {
        "colab": {
          "base_uri": "https://localhost:8080/",
          "height": 519
        },
        "id": "5g8kLsED3LuN",
        "outputId": "c562c840-c1ec-442c-84ea-132def447fa7"
      },
      "execution_count": 40,
      "outputs": [
        {
          "output_type": "stream",
          "name": "stdout",
          "text": [
            "predicted digit is: 2\n",
            "actual digit is: 4\n"
          ]
        },
        {
          "output_type": "display_data",
          "data": {
            "text/plain": [
              "<Figure size 576x576 with 1 Axes>"
            ],
            "image/png": "[encoded data removed]"
          },
          "metadata": {
            "needs_background": "light"
          }
        }
      ]
    },
    {
      "cell_type": "markdown",
      "source": [
        "## Classification Error Analysis"
      ],
      "metadata": {
        "id": "hZztPxWf3URt"
      }
    },
    {
      "cell_type": "markdown",
      "source": [
        "Now we will calculate the classification percentage on the testing data for our trained dense neural network. This is simply the number of correct labels divided by the total number of data points."
      ],
      "metadata": {
        "id": "K7wvuxgd3aA1"
      }
    },
    {
      "cell_type": "code",
      "source": [
        "# Compute the classification accuracy of our trained model on the test data (I bet we did well!)\n",
        "sum([int(net.predict(x) == y) for x, y in zip(flat_test_X, test_y)])/len(onehot_test_y)"
      ],
      "metadata": {
        "colab": {
          "base_uri": "https://localhost:8080/"
        },
        "id": "co56jZqa3XGG",
        "outputId": "a3c6102a-4116-4eca-a637-bac619712355"
      },
      "execution_count": 41,
      "outputs": [
        {
          "output_type": "execute_result",
          "data": {
            "text/plain": [
              "0.8483"
            ]
          },
          "metadata": {},
          "execution_count": 41
        }
      ]
    }
  ]
}
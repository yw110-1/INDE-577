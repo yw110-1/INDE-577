{
  "nbformat": 4,
  "nbformat_minor": 0,
  "metadata": {
    "colab": {
      "provenance": []
    },
    "kernelspec": {
      "name": "python3",
      "display_name": "Python 3"
    },
    "language_info": {
      "name": "python"
    }
  },
  "cells": [
    {
      "cell_type": "markdown",
      "source": [
        "# k-Nearest Neighbors"
      ],
      "metadata": {
        "id": "ikeryulei7C6"
      }
    },
    {
      "cell_type": "code",
      "execution_count": 9,
      "metadata": {
        "colab": {
          "base_uri": "https://localhost:8080/",
          "height": 206
        },
        "id": "l8NclyjKfce3",
        "outputId": "7a7e6a47-581f-4efc-c9fc-5852c1526ae8"
      },
      "outputs": [
        {
          "output_type": "execute_result",
          "data": {
            "text/plain": [
              "  species  bill_length_mm  bill_depth_mm  flipper_length_mm  body_mass_g\n",
              "0  Adelie            39.1           18.7              181.0       3750.0\n",
              "1  Adelie            39.5           17.4              186.0       3800.0\n",
              "2  Adelie            40.3           18.0              195.0       3250.0\n",
              "4  Adelie            36.7           19.3              193.0       3450.0\n",
              "5  Adelie            39.3           20.6              190.0       3650.0"
            ],
            "text/html": [
              "\n",
              "  <div id=\"df-ffb64e11-7f59-4088-8991-54747d71761a\">\n",
              "    <div class=\"colab-df-container\">\n",
              "      <div>\n",
              "<style scoped>\n",
              "    .dataframe tbody tr th:only-of-type {\n",
              "        vertical-align: middle;\n",
              "    }\n",
              "\n",
              "    .dataframe tbody tr th {\n",
              "        vertical-align: top;\n",
              "    }\n",
              "\n",
              "    .dataframe thead th {\n",
              "        text-align: right;\n",
              "    }\n",
              "</style>\n",
              "<table border=\"1\" class=\"dataframe\">\n",
              "  <thead>\n",
              "    <tr style=\"text-align: right;\">\n",
              "      <th></th>\n",
              "      <th>species</th>\n",
              "      <th>bill_length_mm</th>\n",
              "      <th>bill_depth_mm</th>\n",
              "      <th>flipper_length_mm</th>\n",
              "      <th>body_mass_g</th>\n",
              "    </tr>\n",
              "  </thead>\n",
              "  <tbody>\n",
              "    <tr>\n",
              "      <th>0</th>\n",
              "      <td>Adelie</td>\n",
              "      <td>39.1</td>\n",
              "      <td>18.7</td>\n",
              "      <td>181.0</td>\n",
              "      <td>3750.0</td>\n",
              "    </tr>\n",
              "    <tr>\n",
              "      <th>1</th>\n",
              "      <td>Adelie</td>\n",
              "      <td>39.5</td>\n",
              "      <td>17.4</td>\n",
              "      <td>186.0</td>\n",
              "      <td>3800.0</td>\n",
              "    </tr>\n",
              "    <tr>\n",
              "      <th>2</th>\n",
              "      <td>Adelie</td>\n",
              "      <td>40.3</td>\n",
              "      <td>18.0</td>\n",
              "      <td>195.0</td>\n",
              "      <td>3250.0</td>\n",
              "    </tr>\n",
              "    <tr>\n",
              "      <th>4</th>\n",
              "      <td>Adelie</td>\n",
              "      <td>36.7</td>\n",
              "      <td>19.3</td>\n",
              "      <td>193.0</td>\n",
              "      <td>3450.0</td>\n",
              "    </tr>\n",
              "    <tr>\n",
              "      <th>5</th>\n",
              "      <td>Adelie</td>\n",
              "      <td>39.3</td>\n",
              "      <td>20.6</td>\n",
              "      <td>190.0</td>\n",
              "      <td>3650.0</td>\n",
              "    </tr>\n",
              "  </tbody>\n",
              "</table>\n",
              "</div>\n",
              "      <button class=\"colab-df-convert\" onclick=\"convertToInteractive('df-ffb64e11-7f59-4088-8991-54747d71761a')\"\n",
              "              title=\"Convert this dataframe to an interactive table.\"\n",
              "              style=\"display:none;\">\n",
              "        \n",
              "  <svg xmlns=\"http://www.w3.org/2000/svg\" height=\"24px\"viewBox=\"0 0 24 24\"\n",
              "       width=\"24px\">\n",
              "    <path d=\"M0 0h24v24H0V0z\" fill=\"none\"/>\n",
              "    <path d=\"M18.56 5.44l.94 2.06.94-2.06 2.06-.94-2.06-.94-.94-2.06-.94 2.06-2.06.94zm-11 1L8.5 8.5l.94-2.06 2.06-.94-2.06-.94L8.5 2.5l-.94 2.06-2.06.94zm10 10l.94 2.06.94-2.06 2.06-.94-2.06-.94-.94-2.06-.94 2.06-2.06.94z\"/><path d=\"M17.41 7.96l-1.37-1.37c-.4-.4-.92-.59-1.43-.59-.52 0-1.04.2-1.43.59L10.3 9.45l-7.72 7.72c-.78.78-.78 2.05 0 2.83L4 21.41c.39.39.9.59 1.41.59.51 0 1.02-.2 1.41-.59l7.78-7.78 2.81-2.81c.8-.78.8-2.07 0-2.86zM5.41 20L4 18.59l7.72-7.72 1.47 1.35L5.41 20z\"/>\n",
              "  </svg>\n",
              "      </button>\n",
              "      \n",
              "  <style>\n",
              "    .colab-df-container {\n",
              "      display:flex;\n",
              "      flex-wrap:wrap;\n",
              "      gap: 12px;\n",
              "    }\n",
              "\n",
              "    .colab-df-convert {\n",
              "      background-color: #E8F0FE;\n",
              "      border: none;\n",
              "      border-radius: 50%;\n",
              "      cursor: pointer;\n",
              "      display: none;\n",
              "      fill: #1967D2;\n",
              "      height: 32px;\n",
              "      padding: 0 0 0 0;\n",
              "      width: 32px;\n",
              "    }\n",
              "\n",
              "    .colab-df-convert:hover {\n",
              "      background-color: #E2EBFA;\n",
              "      box-shadow: 0px 1px 2px rgba(60, 64, 67, 0.3), 0px 1px 3px 1px rgba(60, 64, 67, 0.15);\n",
              "      fill: #174EA6;\n",
              "    }\n",
              "\n",
              "    [theme=dark] .colab-df-convert {\n",
              "      background-color: #3B4455;\n",
              "      fill: #D2E3FC;\n",
              "    }\n",
              "\n",
              "    [theme=dark] .colab-df-convert:hover {\n",
              "      background-color: #434B5C;\n",
              "      box-shadow: 0px 1px 3px 1px rgba(0, 0, 0, 0.15);\n",
              "      filter: drop-shadow(0px 1px 2px rgba(0, 0, 0, 0.3));\n",
              "      fill: #FFFFFF;\n",
              "    }\n",
              "  </style>\n",
              "\n",
              "      <script>\n",
              "        const buttonEl =\n",
              "          document.querySelector('#df-ffb64e11-7f59-4088-8991-54747d71761a button.colab-df-convert');\n",
              "        buttonEl.style.display =\n",
              "          google.colab.kernel.accessAllowed ? 'block' : 'none';\n",
              "\n",
              "        async function convertToInteractive(key) {\n",
              "          const element = document.querySelector('#df-ffb64e11-7f59-4088-8991-54747d71761a');\n",
              "          const dataTable =\n",
              "            await google.colab.kernel.invokeFunction('convertToInteractive',\n",
              "                                                     [key], {});\n",
              "          if (!dataTable) return;\n",
              "\n",
              "          const docLinkHtml = 'Like what you see? Visit the ' +\n",
              "            '<a target=\"_blank\" href=https://colab.research.google.com/notebooks/data_table.ipynb>data table notebook</a>'\n",
              "            + ' to learn more about interactive tables.';\n",
              "          element.innerHTML = '';\n",
              "          dataTable['output_type'] = 'display_data';\n",
              "          await google.colab.output.renderOutput(dataTable, element);\n",
              "          const docLink = document.createElement('div');\n",
              "          docLink.innerHTML = docLinkHtml;\n",
              "          element.appendChild(docLink);\n",
              "        }\n",
              "      </script>\n",
              "    </div>\n",
              "  </div>\n",
              "  "
            ]
          },
          "metadata": {},
          "execution_count": 9
        }
      ],
      "source": [
        "import matplotlib.pyplot as plt\n",
        "import numpy as np\n",
        "import pandas as pd\n",
        "import seaborn as sns\n",
        "\n",
        "# Set theme for plotting\n",
        "sns.set_theme()\n",
        "\n",
        "# Import the data\n",
        "pg = pd.read_csv('https://raw.githubusercontent.com/yw110-1/INDE-577/main/Data/penguins.csv')\n",
        "pg = pg.dropna()\n",
        "pg = pg.drop(['island','sex'], axis=1)\n",
        "pg.head()"
      ]
    },
    {
      "cell_type": "code",
      "source": [
        "# Plot the data\n",
        "species = [\"Adelie\",\"Gentoo\", \"Chinstrap\"]\n",
        "colors = [\"red\", \"magenta\", \"lightseagreen\"]\n",
        "\n",
        "fig, ax = plt.subplots(figsize = (10, 8))\n",
        "for species, color in zip(species, colors):\n",
        "    temp_df = pg[pg.species == species]\n",
        "    ax.scatter(temp_df.bill_length_mm,\n",
        "               temp_df.bill_depth_mm,\n",
        "               c = color,\n",
        "               label = species, \n",
        "               )\n",
        "    \n",
        "ax.set_xlabel(\"bill length [cm]\", fontsize = 15)\n",
        "ax.set_ylabel(\"bill depth [cm]\", fontsize = 15)\n",
        "ax.legend()\n",
        "plt.show()"
      ],
      "metadata": {
        "colab": {
          "base_uri": "https://localhost:8080/",
          "height": 504
        },
        "id": "xlYeHXEejXiJ",
        "outputId": "04c5ab69-e3b9-4d1c-a1f4-8bb596f664b6"
      },
      "execution_count": 10,
      "outputs": [
        {
          "output_type": "display_data",
          "data": {
            "text/plain": [
              "<Figure size 720x576 with 1 Axes>"
            ],
            "image/png": "[encoded data removed]"
          },
          "metadata": {}
        }
      ]
    },
    {
      "cell_type": "markdown",
      "source": [
        "## Build Training Sets"
      ],
      "metadata": {
        "id": "f3UNZBfdk38P"
      }
    },
    {
      "cell_type": "code",
      "source": [
        "from sklearn.model_selection import train_test_split\n",
        "\n",
        "X = pg[[\"bill_length_mm\",\"bill_depth_mm\"]].to_numpy()\n",
        "\n",
        "y = pg[\"species\"].to_numpy()\n",
        "\n",
        "X_train, X_test, y_train, y_test = train_test_split(X,\n",
        "                                                    y, \n",
        "                                                    test_size=0.33, \n",
        "                                                    random_state=42)"
      ],
      "metadata": {
        "id": "2uuOnL3EkuJu"
      },
      "execution_count": 12,
      "outputs": []
    },
    {
      "cell_type": "markdown",
      "source": [
        "## Distance Measure"
      ],
      "metadata": {
        "id": "M1kpocPJlOSi"
      }
    },
    {
      "cell_type": "code",
      "source": [
        "def distance(p, q):\n",
        "    return np.sqrt((p - q) @ (p - q))\n",
        "\n",
        "print(f\"The distance between point 10 and 67 is {distance(X[10], X[67])}\")"
      ],
      "metadata": {
        "colab": {
          "base_uri": "https://localhost:8080/"
        },
        "id": "nFENGrmClNdi",
        "outputId": "55d7bfbb-5779-4c11-d12a-1a2f6f70c2cc"
      },
      "execution_count": 13,
      "outputs": [
        {
          "output_type": "stream",
          "name": "stdout",
          "text": [
            "The distance between point 10 and 67 is 9.265527507918797\n"
          ]
        }
      ]
    },
    {
      "cell_type": "markdown",
      "source": [
        "With our distance function, we are now ready to write a function to compute the  𝑘 -nearest neighbors to a given point."
      ],
      "metadata": {
        "id": "34AyHmsClVdL"
      }
    },
    {
      "cell_type": "code",
      "source": [
        "def k_nearest_neighbors(point, \n",
        "                        training_features, \n",
        "                        training_labels, \n",
        "                        k):\n",
        "    # Create an empty list to store neighbors and distances\n",
        "    neighbors = []\n",
        "    \n",
        "    for p, label in zip(training_features, training_labels):\n",
        "        d = distance(point, p)\n",
        "        temp_data = [p, label, d]\n",
        "        neighbors.append(temp_data)\n",
        "        \n",
        "    neighbors.sort(key = lambda x : x[-1])\n",
        "    \n",
        "    return neighbors[:k]"
      ],
      "metadata": {
        "id": "cCQcU1F8lWMv"
      },
      "execution_count": 14,
      "outputs": []
    },
    {
      "cell_type": "code",
      "source": [
        "# Test the k_nearest_neighbors function\n",
        "k_nearest_neighbors(X_test[-1], X_train, y_train, 5)"
      ],
      "metadata": {
        "colab": {
          "base_uri": "https://localhost:8080/"
        },
        "id": "OVJ_zB8alZNB",
        "outputId": "ef0716eb-a834-434d-aee3-b829c0565b4a"
      },
      "execution_count": 15,
      "outputs": [
        {
          "output_type": "execute_result",
          "data": {
            "text/plain": [
              "[[array([46.8, 15.4]), 'Gentoo', 0.14142135623730523],\n",
              " [array([46.4, 15.6]), 'Gentoo', 0.4242640687119308],\n",
              " [array([46.4, 15. ]), 'Gentoo', 0.42426406871193206],\n",
              " [array([47.2, 15.5]), 'Gentoo', 0.5385164807134502],\n",
              " [array([46.5, 14.8]), 'Gentoo', 0.5385164807134515]]"
            ]
          },
          "metadata": {},
          "execution_count": 15
        }
      ]
    },
    {
      "cell_type": "code",
      "source": [
        "# Show the true label \n",
        "y_test[-1]"
      ],
      "metadata": {
        "colab": {
          "base_uri": "https://localhost:8080/",
          "height": 35
        },
        "id": "BCcI0xPXlu_f",
        "outputId": "32af71a2-e538-4d67-a55e-cc9ae977213d"
      },
      "execution_count": 18,
      "outputs": [
        {
          "output_type": "execute_result",
          "data": {
            "text/plain": [
              "'Gentoo'"
            ],
            "application/vnd.google.colaboratory.intrinsic+json": {
              "type": "string"
            }
          },
          "metadata": {},
          "execution_count": 18
        }
      ]
    },
    {
      "cell_type": "markdown",
      "source": [
        "## Predict Target Label"
      ],
      "metadata": {
        "id": "QiO5iL1ulgJp"
      }
    },
    {
      "cell_type": "markdown",
      "source": [
        "Now that we have a function to compute the  𝑘 -nearest neighbors to a point, we can now write a function to predict a target label. However, we should note that KNN can be used for both classification and regression machine learning."
      ],
      "metadata": {
        "id": "7p9G0979mVka"
      }
    },
    {
      "cell_type": "code",
      "source": [
        "def KNN_Predict(point, \n",
        "                training_features, \n",
        "                training_labels, \n",
        "                k, \n",
        "                regression = False):\n",
        "    \n",
        "    neighbors = k_nearest_neighbors(point, \n",
        "                                    training_features, \n",
        "                                    training_labels, \n",
        "                                    k)\n",
        "    \n",
        "    if regression == False:\n",
        "        labels = [x[1] for x in neighbors]\n",
        "        return max(labels, key = labels.count) #counts the labels\n",
        "    \n",
        "    else:\n",
        "        return sum(x[1] for x in neighbors)/k"
      ],
      "metadata": {
        "id": "darr33owligw"
      },
      "execution_count": 19,
      "outputs": []
    },
    {
      "cell_type": "code",
      "source": [
        "# Test our function \n",
        "KNN_Predict(X_test[-1], X_train, y_train, 5)"
      ],
      "metadata": {
        "colab": {
          "base_uri": "https://localhost:8080/",
          "height": 35
        },
        "id": "btp_t1YtloHT",
        "outputId": "c842cabd-31b1-4b63-d6fe-d7b4d1ae2193"
      },
      "execution_count": 22,
      "outputs": [
        {
          "output_type": "execute_result",
          "data": {
            "text/plain": [
              "'Gentoo'"
            ],
            "application/vnd.google.colaboratory.intrinsic+json": {
              "type": "string"
            }
          },
          "metadata": {},
          "execution_count": 22
        }
      ]
    },
    {
      "cell_type": "markdown",
      "source": [
        "## Error Analysis"
      ],
      "metadata": {
        "id": "oJc3G9AimLi6"
      }
    },
    {
      "cell_type": "markdown",
      "source": [
        "Next, we compute the classfication error."
      ],
      "metadata": {
        "id": "rFGV8RmCmPXh"
      }
    },
    {
      "cell_type": "code",
      "source": [
        "def classification_error(test_features, \n",
        "                         test_labels,\n",
        "                         training_features, \n",
        "                         training_labels,\n",
        "                         k):\n",
        "    error = 0\n",
        "    for point, label in zip(test_features, test_labels):\n",
        "        error += label != KNN_Predict(point, \n",
        "                                      training_features, \n",
        "                                      training_labels, \n",
        "                                      k)\n",
        "    return error/len(test_features)"
      ],
      "metadata": {
        "id": "XzF6tA8lmcIA"
      },
      "execution_count": 23,
      "outputs": []
    },
    {
      "cell_type": "code",
      "source": [
        "# Test our function\n",
        "classification_error(X_test, y_test, X_train, y_train, 7)"
      ],
      "metadata": {
        "colab": {
          "base_uri": "https://localhost:8080/"
        },
        "id": "KjluoBQgme1k",
        "outputId": "ed73b138-d8f7-490e-e71a-5fb69a72c25f"
      },
      "execution_count": 24,
      "outputs": [
        {
          "output_type": "execute_result",
          "data": {
            "text/plain": [
              "0.045454545454545456"
            ]
          },
          "metadata": {},
          "execution_count": 24
        }
      ]
    },
    {
      "cell_type": "markdown",
      "source": [
        "## Choose the value of $k$"
      ],
      "metadata": {
        "id": "5aKTIenxmnNh"
      }
    },
    {
      "cell_type": "code",
      "source": [
        "possible_k = [k for k in range(3, 26, 2)]\n",
        "errors = [classification_error(X_test,\n",
        "                               y_test,\n",
        "                               X_train,\n",
        "                               y_train, k) for k in possible_k]"
      ],
      "metadata": {
        "id": "qfEJxcvRmqZq"
      },
      "execution_count": 25,
      "outputs": []
    },
    {
      "cell_type": "code",
      "source": [
        "plt.figure(figsize = (10, 8))\n",
        "plt.plot(possible_k, errors, color = 'red', marker = \"o\")\n",
        "plt.xlabel('k', fontsize = 14)\n",
        "plt.ylabel('Classification Error', fontsize = 14)\n",
        "plt.xticks(possible_k)\n",
        "plt.show()"
      ],
      "metadata": {
        "colab": {
          "base_uri": "https://localhost:8080/",
          "height": 503
        },
        "id": "tP08vK9NmtpN",
        "outputId": "9956c7f0-3e93-42ff-a05f-b0a8dfc2ab5d"
      },
      "execution_count": 26,
      "outputs": [
        {
          "output_type": "display_data",
          "data": {
            "text/plain": [
              "<Figure size 720x576 with 1 Axes>"
            ],
            "image/png": "[encoded data removed]"
          },
          "metadata": {}
        }
      ]
    }
  ]
}

{
  "nbformat": 4,
  "nbformat_minor": 0,
  "metadata": {
    "colab": {
      "provenance": []
    },
    "kernelspec": {
      "name": "python3",
      "display_name": "Python 3"
    },
    "language_info": {
      "name": "python"
    }
  },
  "cells": [
    {
      "cell_type": "markdown",
      "source": [
        "# Single Neural Logistic Regression"
      ],
      "metadata": {
        "id": "yzMYIfkZThms"
      }
    },
    {
      "cell_type": "code",
      "execution_count": 2,
      "metadata": {
        "id": "G3rgu2V3TUri"
      },
      "outputs": [],
      "source": [
        "import matplotlib.pyplot as plt\n",
        "import numpy as np\n",
        "import pandas as pd\n",
        "import seaborn as sns\n",
        "from sklearn import preprocessing\n",
        "from sklearn.model_selection import train_test_split\n",
        "from sklearn.metrics import confusion_matrix\n",
        "from sklearn.metrics import classification_report\n",
        "\n",
        "# Import a nice function for plotting decision boudaries\n",
        "from mlxtend.plotting import plot_decision_regions\n",
        "\n",
        "# Set the Seaborn theme\n",
        "sns.set_theme()"
      ]
    },
    {
      "cell_type": "code",
      "source": [
        "# Import Penguin Dataset as a Dataframe object\n",
        "pg = pd.read_csv(\"https://raw.githubusercontent.com/yw110-1/INDE-577/main/Data/penguins.csv\")\n",
        "pg = pg.dropna()\n",
        "pg.head()"
      ],
      "metadata": {
        "colab": {
          "base_uri": "https://localhost:8080/",
          "height": 206
        },
        "id": "ayRaC2uuTpXo",
        "outputId": "b81d8868-a0ad-4501-a936-bc89bd6e2533"
      },
      "execution_count": 3,
      "outputs": [
        {
          "output_type": "execute_result",
          "data": {
            "text/plain": [
              "  species     island  bill_length_mm  bill_depth_mm  flipper_length_mm  \\\n",
              "0  Adelie  Torgersen            39.1           18.7              181.0   \n",
              "1  Adelie  Torgersen            39.5           17.4              186.0   \n",
              "2  Adelie  Torgersen            40.3           18.0              195.0   \n",
              "4  Adelie  Torgersen            36.7           19.3              193.0   \n",
              "5  Adelie  Torgersen            39.3           20.6              190.0   \n",
              "\n",
              "   body_mass_g     sex  \n",
              "0       3750.0    male  \n",
              "1       3800.0  female  \n",
              "2       3250.0  female  \n",
              "4       3450.0  female  \n",
              "5       3650.0    male  "
            ],
            "text/html": [
              "\n",
              "  <div id=\"df-0c3b7354-44be-48ab-8c54-b75f4297e7ec\">\n",
              "    <div class=\"colab-df-container\">\n",
              "      <div>\n",
              "<style scoped>\n",
              "    .dataframe tbody tr th:only-of-type {\n",
              "        vertical-align: middle;\n",
              "    }\n",
              "\n",
              "    .dataframe tbody tr th {\n",
              "        vertical-align: top;\n",
              "    }\n",
              "\n",
              "    .dataframe thead th {\n",
              "        text-align: right;\n",
              "    }\n",
              "</style>\n",
              "<table border=\"1\" class=\"dataframe\">\n",
              "  <thead>\n",
              "    <tr style=\"text-align: right;\">\n",
              "      <th></th>\n",
              "      <th>species</th>\n",
              "      <th>island</th>\n",
              "      <th>bill_length_mm</th>\n",
              "      <th>bill_depth_mm</th>\n",
              "      <th>flipper_length_mm</th>\n",
              "      <th>body_mass_g</th>\n",
              "      <th>sex</th>\n",
              "    </tr>\n",
              "  </thead>\n",
              "  <tbody>\n",
              "    <tr>\n",
              "      <th>0</th>\n",
              "      <td>Adelie</td>\n",
              "      <td>Torgersen</td>\n",
              "      <td>39.1</td>\n",
              "      <td>18.7</td>\n",
              "      <td>181.0</td>\n",
              "      <td>3750.0</td>\n",
              "      <td>male</td>\n",
              "    </tr>\n",
              "    <tr>\n",
              "      <th>1</th>\n",
              "      <td>Adelie</td>\n",
              "      <td>Torgersen</td>\n",
              "      <td>39.5</td>\n",
              "      <td>17.4</td>\n",
              "      <td>186.0</td>\n",
              "      <td>3800.0</td>\n",
              "      <td>female</td>\n",
              "    </tr>\n",
              "    <tr>\n",
              "      <th>2</th>\n",
              "      <td>Adelie</td>\n",
              "      <td>Torgersen</td>\n",
              "      <td>40.3</td>\n",
              "      <td>18.0</td>\n",
              "      <td>195.0</td>\n",
              "      <td>3250.0</td>\n",
              "      <td>female</td>\n",
              "    </tr>\n",
              "    <tr>\n",
              "      <th>4</th>\n",
              "      <td>Adelie</td>\n",
              "      <td>Torgersen</td>\n",
              "      <td>36.7</td>\n",
              "      <td>19.3</td>\n",
              "      <td>193.0</td>\n",
              "      <td>3450.0</td>\n",
              "      <td>female</td>\n",
              "    </tr>\n",
              "    <tr>\n",
              "      <th>5</th>\n",
              "      <td>Adelie</td>\n",
              "      <td>Torgersen</td>\n",
              "      <td>39.3</td>\n",
              "      <td>20.6</td>\n",
              "      <td>190.0</td>\n",
              "      <td>3650.0</td>\n",
              "      <td>male</td>\n",
              "    </tr>\n",
              "  </tbody>\n",
              "</table>\n",
              "</div>\n",
              "      <button class=\"colab-df-convert\" onclick=\"convertToInteractive('df-0c3b7354-44be-48ab-8c54-b75f4297e7ec')\"\n",
              "              title=\"Convert this dataframe to an interactive table.\"\n",
              "              style=\"display:none;\">\n",
              "        \n",
              "  <svg xmlns=\"http://www.w3.org/2000/svg\" height=\"24px\"viewBox=\"0 0 24 24\"\n",
              "       width=\"24px\">\n",
              "    <path d=\"M0 0h24v24H0V0z\" fill=\"none\"/>\n",
              "    <path d=\"M18.56 5.44l.94 2.06.94-2.06 2.06-.94-2.06-.94-.94-2.06-.94 2.06-2.06.94zm-11 1L8.5 8.5l.94-2.06 2.06-.94-2.06-.94L8.5 2.5l-.94 2.06-2.06.94zm10 10l.94 2.06.94-2.06 2.06-.94-2.06-.94-.94-2.06-.94 2.06-2.06.94z\"/><path d=\"M17.41 7.96l-1.37-1.37c-.4-.4-.92-.59-1.43-.59-.52 0-1.04.2-1.43.59L10.3 9.45l-7.72 7.72c-.78.78-.78 2.05 0 2.83L4 21.41c.39.39.9.59 1.41.59.51 0 1.02-.2 1.41-.59l7.78-7.78 2.81-2.81c.8-.78.8-2.07 0-2.86zM5.41 20L4 18.59l7.72-7.72 1.47 1.35L5.41 20z\"/>\n",
              "  </svg>\n",
              "      </button>\n",
              "      \n",
              "  <style>\n",
              "    .colab-df-container {\n",
              "      display:flex;\n",
              "      flex-wrap:wrap;\n",
              "      gap: 12px;\n",
              "    }\n",
              "\n",
              "    .colab-df-convert {\n",
              "      background-color: #E8F0FE;\n",
              "      border: none;\n",
              "      border-radius: 50%;\n",
              "      cursor: pointer;\n",
              "      display: none;\n",
              "      fill: #1967D2;\n",
              "      height: 32px;\n",
              "      padding: 0 0 0 0;\n",
              "      width: 32px;\n",
              "    }\n",
              "\n",
              "    .colab-df-convert:hover {\n",
              "      background-color: #E2EBFA;\n",
              "      box-shadow: 0px 1px 2px rgba(60, 64, 67, 0.3), 0px 1px 3px 1px rgba(60, 64, 67, 0.15);\n",
              "      fill: #174EA6;\n",
              "    }\n",
              "\n",
              "    [theme=dark] .colab-df-convert {\n",
              "      background-color: #3B4455;\n",
              "      fill: #D2E3FC;\n",
              "    }\n",
              "\n",
              "    [theme=dark] .colab-df-convert:hover {\n",
              "      background-color: #434B5C;\n",
              "      box-shadow: 0px 1px 3px 1px rgba(0, 0, 0, 0.15);\n",
              "      filter: drop-shadow(0px 1px 2px rgba(0, 0, 0, 0.3));\n",
              "      fill: #FFFFFF;\n",
              "    }\n",
              "  </style>\n",
              "\n",
              "      <script>\n",
              "        const buttonEl =\n",
              "          document.querySelector('#df-0c3b7354-44be-48ab-8c54-b75f4297e7ec button.colab-df-convert');\n",
              "        buttonEl.style.display =\n",
              "          google.colab.kernel.accessAllowed ? 'block' : 'none';\n",
              "\n",
              "        async function convertToInteractive(key) {\n",
              "          const element = document.querySelector('#df-0c3b7354-44be-48ab-8c54-b75f4297e7ec');\n",
              "          const dataTable =\n",
              "            await google.colab.kernel.invokeFunction('convertToInteractive',\n",
              "                                                     [key], {});\n",
              "          if (!dataTable) return;\n",
              "\n",
              "          const docLinkHtml = 'Like what you see? Visit the ' +\n",
              "            '<a target=\"_blank\" href=https://colab.research.google.com/notebooks/data_table.ipynb>data table notebook</a>'\n",
              "            + ' to learn more about interactive tables.';\n",
              "          element.innerHTML = '';\n",
              "          dataTable['output_type'] = 'display_data';\n",
              "          await google.colab.output.renderOutput(dataTable, element);\n",
              "          const docLink = document.createElement('div');\n",
              "          docLink.innerHTML = docLinkHtml;\n",
              "          element.appendChild(docLink);\n",
              "        }\n",
              "      </script>\n",
              "    </div>\n",
              "  </div>\n",
              "  "
            ]
          },
          "metadata": {},
          "execution_count": 3
        }
      ]
    },
    {
      "cell_type": "markdown",
      "source": [
        "Here we would like to show linearly and non-linearly separable data."
      ],
      "metadata": {
        "id": "2M1NUDZooRxJ"
      }
    },
    {
      "cell_type": "code",
      "source": [
        "adelie = pg[pg['species'] == \"Adelie\"]\n",
        "gentoo = pg[pg['species'] == \"Gentoo\"]\n",
        "chinstrap = pg[pg['species'] == \"Chinstrap\"]\n",
        "torgersen = pg[pg['island'] == \"Torgersen\"]\n",
        "dream = pg[pg['island'] == \"Dream\"]\n",
        "biscoe = pg[pg['island'] == \"Biscoe\"]\n",
        "pg.species.value_counts()"
      ],
      "metadata": {
        "id": "YMc_IeQRTuS6",
        "colab": {
          "base_uri": "https://localhost:8080/"
        },
        "outputId": "85b2927a-0eb1-4c79-8b6f-f0d86233d131"
      },
      "execution_count": 134,
      "outputs": [
        {
          "output_type": "execute_result",
          "data": {
            "text/plain": [
              "Adelie       146\n",
              "Gentoo       119\n",
              "Chinstrap     68\n",
              "Name: species, dtype: int64"
            ]
          },
          "metadata": {},
          "execution_count": 134
        }
      ]
    },
    {
      "cell_type": "code",
      "source": [
        "fig, (ax1, ax2) = plt.subplots(1, 2, figsize=(15,10))\n",
        "\n",
        "ax1.scatter(adelie.bill_length_mm, \n",
        "            adelie.bill_depth_mm, \n",
        "            color = \"red\", \n",
        "            label = \"Adelie\")\n",
        "ax1.scatter(gentoo.bill_length_mm, \n",
        "            gentoo.bill_depth_mm, \n",
        "            color = \"magenta\", \n",
        "            label = \"Gentoo\")\n",
        "ax1.set_xlabel(\"Bill Length [mm]\", fontsize = 15)\n",
        "ax1.set_ylabel(\"Bill Width [mm]\", fontsize = 15)\n",
        "ax1.legend(fontsize = 15, loc = \"upper left\")\n",
        "ax1.set_title(\"Linearly Seperable Data\", fontsize = 18)\n",
        "\n",
        "\n",
        "ax2.scatter(gentoo.flipper_length_mm, \n",
        "            gentoo.bill_length_mm,  \n",
        "            color = \"magenta\", \n",
        "            label = \"Gentoo\")\n",
        "ax2.scatter(chinstrap.flipper_length_mm, \n",
        "            chinstrap.bill_length_mm,        \n",
        "            color = \"lightseagreen\", \n",
        "            label = \"Chinstrap\")\n",
        "ax2.set_xlabel(\"Flipper Length [mm]\", fontsize = 15)\n",
        "ax2.set_ylabel(\"Bill Length [mm]\", fontsize = 15)\n",
        "ax2.legend(fontsize = 15, loc = \"upper left\")\n",
        "ax2.set_title(\"Non-Linearly Seperable Data\", fontsize = 18)\n",
        "plt.show()"
      ],
      "metadata": {
        "colab": {
          "base_uri": "https://localhost:8080/",
          "height": 633
        },
        "id": "zPD5SmSYcNGS",
        "outputId": "001cbb6f-011d-4628-ec24-0042bef0fb0e"
      },
      "execution_count": 131,
      "outputs": [
        {
          "output_type": "display_data",
          "data": {
            "text/plain": [
              "<Figure size 1080x720 with 2 Axes>"
            ],
            "image/png": "[encoded data removed]"
          },
          "metadata": {}
        }
      ]
    },
    {
      "cell_type": "markdown",
      "source": [
        "We will build the single neuron class and define sigmoid activation function and MSE cost function."
      ],
      "metadata": {
        "id": "rOGAXdXUnCFo"
      }
    },
    {
      "cell_type": "code",
      "source": [
        "# Single Neuron Class\n",
        "class SingleNeuron(object):\n",
        "    \"\"\"\n",
        "    A class used to represent a single artificial neuron. \n",
        "\n",
        "    ...\n",
        "\n",
        "    Attributes\n",
        "    ----------\n",
        "    activation_function : function\n",
        "        The activation function applied to the preactivation linear combination.\n",
        "    \n",
        "    cost_function : function\n",
        "        The cost function used to measure model performance.\n",
        "\n",
        "    w_ : numpy.ndarray\n",
        "        The weights and bias of the single neuron. The last entry being the bias. \n",
        "        This attribute is created when the train method is called.\n",
        "\n",
        "    errors_: list\n",
        "        A list containing the mean sqaured error computed after each iteration \n",
        "        of stochastic gradient descent per epoch. \n",
        "\n",
        "    Methods\n",
        "    -------\n",
        "    train(self, X, y, alpha = 0.005, epochs = 50)\n",
        "        Iterates the stochastic gradient descent algorithm through each sample \n",
        "        a total of epochs number of times with learning rate alpha. The data \n",
        "        used consists of feature vectors X and associated labels y. \n",
        "\n",
        "    predict(self, X)\n",
        "        Uses the weights and bias, the feature vectors in X, and the \n",
        "        activation_function to make a y_hat prediction on each feature vector. \n",
        "    \"\"\"\n",
        "    def __init__(self, activation_function, cost_function):\n",
        "        self.activation_function = activation_function\n",
        "        self.cost_function = cost_function\n",
        "\n",
        "    def train(self, X, y, alpha = 0.005, epochs = 50):\n",
        "   \n",
        "        self.w_ = np.random.rand(1 + X.shape[1])\n",
        "        self.errors_ = []\n",
        "        N = X.shape[0]\n",
        "\n",
        "        for _ in range(epochs):\n",
        "            errors = 0\n",
        "            for xi, target in zip(X, y):\n",
        "                self.w_[:-1] -= alpha*(self.predict(xi) - target)*xi\n",
        "                self.w_[-1] -= alpha*(self.predict(xi) - target)\n",
        "                #errors += .5*((self.predict(xi) - target)**2)\n",
        "                errors += self.cost_function(self.predict(xi), target)\n",
        "            self.errors_.append(errors/N)\n",
        "        return self\n",
        "\n",
        "    def predict(self, X):\n",
        "        preactivation = np.dot(X, self.w_[:-1]) + self.w_[-1]\n",
        "        return self.activation_function(preactivation)\n",
        "\n",
        "\n",
        "    def plot_cost_function(self):\n",
        "        fig, axs = plt.subplots(figsize = (10, 8))\n",
        "        axs.plot(range(1, len(self.errors_) + 1), \n",
        "                self.errors_,\n",
        "                label = \"Cost function\")\n",
        "        axs.set_xlabel(\"epochs\", fontsize = 15)\n",
        "        axs.set_ylabel(\"Cost\", fontsize = 15)\n",
        "        axs.legend(fontsize = 15)\n",
        "        axs.set_title(\"Cost Calculated after Epoch During Training\", fontsize = 18)\n",
        "        return fig\n",
        "\n",
        "    def plot_decision_boundary(self, X, y, xstring=\"x\", ystring=\"y\"):\n",
        "        plt.figure(figsize = (10, 8))\n",
        "        plot_decision_regions(X, y, clf = self)\n",
        "        plt.title(\"Neuron Decision Boundary\", fontsize = 18)\n",
        "        plt.xlabel(xstring, fontsize = 15)\n",
        "        plt.ylabel(ystring, fontsize = 15)\n",
        "        plt.show()"
      ],
      "metadata": {
        "id": "6H3ji7T2niNN"
      },
      "execution_count": 143,
      "outputs": []
    },
    {
      "cell_type": "code",
      "source": [
        "# Define sigmoid activation function\n",
        "def sigmoid(z):\n",
        "    return 1.0/(1.0 + np.exp(-z))\n",
        "\n",
        "# Define MSE cost function\n",
        "def cross_entropy_loss(y_hat, y):\n",
        "    return - y*np.log(y_hat) - (1 - y)*np.log(1 - y_hat)"
      ],
      "metadata": {
        "id": "hFcKK5AjnBcD"
      },
      "execution_count": 145,
      "outputs": []
    },
    {
      "cell_type": "code",
      "source": [
        "node = SingleNeuron(sigmoid, cross_entropy_loss)"
      ],
      "metadata": {
        "colab": {
          "base_uri": "https://localhost:8080/"
        },
        "id": "BXkd9MIU_0RK",
        "outputId": "46be6ec9-0b26-4c0f-c69c-e884c0c6aa38"
      },
      "execution_count": 147,
      "outputs": [
        {
          "output_type": "execute_result",
          "data": {
            "text/plain": [
              "<__main__.SingleNeuron at 0x7f9bf91708b0>"
            ]
          },
          "metadata": {},
          "execution_count": 147
        }
      ]
    },
    {
      "cell_type": "code",
      "source": [
        "X = pg[pg['species'] != 'Adelie'].bill_length_mm.values\n",
        "X = X.reshape(-1, 1)\n",
        "y = np.where(pg[pg['species'] != 'Adelie'].species == \"Chinstrap\", 0, 1)\n",
        "node.train(X, y, alpha = 0.01, epochs = 500)"
      ],
      "metadata": {
        "id": "k6eGEh2psEWb",
        "colab": {
          "base_uri": "https://localhost:8080/"
        },
        "outputId": "29ad082a-8a30-4f43-ae8f-d4a162bc5d4f"
      },
      "execution_count": 149,
      "outputs": [
        {
          "output_type": "stream",
          "name": "stderr",
          "text": [
            "<ipython-input-145-a810ec3a9f20>:7: RuntimeWarning: divide by zero encountered in log\n",
            "  return - y*np.log(y_hat) - (1 - y)*np.log(1 - y_hat)\n",
            "<ipython-input-145-a810ec3a9f20>:7: RuntimeWarning: invalid value encountered in multiply\n",
            "  return - y*np.log(y_hat) - (1 - y)*np.log(1 - y_hat)\n"
          ]
        },
        {
          "output_type": "execute_result",
          "data": {
            "text/plain": [
              "<__main__.SingleNeuron at 0x7f9bf91708b0>"
            ]
          },
          "metadata": {},
          "execution_count": 149
        }
      ]
    },
    {
      "cell_type": "markdown",
      "source": [
        "\n",
        "Now that we have trained the variable ```node```, we can now visualize the binary cross entropy loss over each epoch by plotting the values in the ```SingleNeuron.errors_``` attribute. This can be done by running the following code in the cell below."
      ],
      "metadata": {
        "id": "8iP4urxYEzo2"
      }
    },
    {
      "cell_type": "code",
      "source": [
        "node.plot_cost_function()\n",
        "plt.show()"
      ],
      "metadata": {
        "id": "ycl-Nm1tsQ2K",
        "colab": {
          "base_uri": "https://localhost:8080/",
          "height": 524
        },
        "outputId": "99f33239-890c-4849-8b46-4e9166be6c54"
      },
      "execution_count": 150,
      "outputs": [
        {
          "output_type": "display_data",
          "data": {
            "text/plain": [
              "<Figure size 720x576 with 1 Axes>"
            ],
            "image/png": "[encoded data removed]"
          },
          "metadata": {}
        }
      ]
    },
    {
      "cell_type": "code",
      "source": [
        "plt.figure(figsize = (10, 8))\n",
        "plt.xlim((180, 230))\n",
        "plt.scatter(chinstrap.flipper_length_mm, \n",
        "            np.zeros(68), \n",
        "            color = \"magenta\", \n",
        "            label = \"chinstrap\")\n",
        "plt.scatter(gentoo.flipper_length_mm, \n",
        "            np.ones(119), \n",
        "            color = \"lightseagreen\", \n",
        "            label = \"gentoo\")\n",
        "domain = np.linspace(180, 230, 100)\n",
        "plt.plot(domain, node.predict(domain.reshape(-1, 1)))\n",
        "plt.xlabel(\"bill length [mm]\", fontsize = 15)\n",
        "plt.ylabel(\"label\", fontsize = 15)\n",
        "plt.legend(fontsize = 15, loc = \"upper left\")\n",
        "plt.title(\"The Learned Logistic Curve\", fontsize = 18)\n",
        "plt.show()"
      ],
      "metadata": {
        "id": "UHtpS3OrsRpj",
        "colab": {
          "base_uri": "https://localhost:8080/",
          "height": 524
        },
        "outputId": "0bab2330-9870-4a8c-e5bd-1bca80ce5b24"
      },
      "execution_count": 157,
      "outputs": [
        {
          "output_type": "display_data",
          "data": {
            "text/plain": [
              "<Figure size 720x576 with 1 Axes>"
            ],
            "image/png": "[encoded data removed]"
          },
          "metadata": {}
        }
      ]
    },
    {
      "cell_type": "code",
      "source": [
        "node.predict(X)"
      ],
      "metadata": {
        "id": "IW9vD3rysTz-",
        "colab": {
          "base_uri": "https://localhost:8080/"
        },
        "outputId": "8c6d474c-1c7f-493d-9032-97a760ab6a8e"
      },
      "execution_count": 158,
      "outputs": [
        {
          "output_type": "execute_result",
          "data": {
            "text/plain": [
              "array([6.25490332e-06, 2.22243690e-06, 3.13781026e-06, 2.22243690e-06,\n",
              "       4.20124555e-06, 5.62508765e-06, 7.53147977e-06, 5.33437607e-06,\n",
              "       1.31479691e-05, 5.19470387e-06, 2.48543881e-05, 2.89773121e-06,\n",
              "       7.33428031e-06, 3.39777997e-06, 6.77312456e-06, 2.67602095e-06,\n",
              "       1.85632477e-05, 2.74797244e-06, 6.09112872e-06, 3.13781026e-06,\n",
              "       2.10757820e-06, 8.15546501e-06, 5.62508765e-06, 5.93164227e-06,\n",
              "       1.46200755e-05, 6.25490332e-06, 3.98411962e-06, 3.58295177e-06,\n",
              "       2.22243690e-06, 4.54932119e-06, 1.50131679e-05, 8.15546501e-06,\n",
              "       1.74033312e-07, 2.82185852e-06, 3.39777997e-06, 1.58313436e-05,\n",
              "       9.81992730e-06, 1.09194151e-05, 3.13781026e-06, 1.54168292e-05,\n",
              "       2.47127407e-06, 7.73398136e-06, 2.47127407e-06, 1.94632375e-06,\n",
              "       1.21420055e-05, 7.33428031e-06, 1.94632375e-06, 8.59991831e-06,\n",
              "       7.94192764e-06, 5.47780367e-06, 3.30881431e-06, 8.15546501e-06,\n",
              "       2.16424573e-06, 5.62508765e-06, 8.37474377e-06, 1.15144953e-05,\n",
              "       7.33428031e-06, 1.35014812e-05, 1.99865555e-06, 7.73398136e-06,\n",
              "       6.09112872e-06, 6.95523612e-06, 7.10142656e-07, 6.77312456e-06,\n",
              "       2.34355514e-06, 2.53772044e-06, 1.24684704e-05, 1.84573495e-06,\n",
              "       4.09124246e-06, 5.77633169e-06, 3.58295177e-06, 5.62508765e-06,\n",
              "       5.77633169e-06, 3.22217807e-06, 4.31420632e-06, 1.65988437e-06,\n",
              "       7.94192764e-06, 7.94192764e-06, 2.82185852e-06, 1.14487356e-06,\n",
              "       4.43020432e-06, 2.22243690e-06, 8.59991831e-06, 1.79740714e-06,\n",
              "       1.28037129e-05, 1.57409914e-06, 4.31420632e-06, 1.27306052e-06,\n",
              "       4.31420632e-06, 1.23972732e-06, 7.33428031e-06, 2.53772044e-06,\n",
              "       9.56280916e-06, 1.79740714e-06, 2.60595339e-06, 5.05868875e-06,\n",
              "       3.39777997e-06, 1.65988437e-06, 3.30881431e-06, 4.64493224e-07,\n",
              "       4.67164079e-06, 2.82185852e-06, 5.19470387e-06, 2.01011997e-05,\n",
              "       9.01678209e-07, 1.31479691e-05, 3.67928827e-06, 1.94632375e-06,\n",
              "       2.34355514e-06, 1.24684704e-05, 1.49274741e-06, 6.09112872e-06,\n",
              "       5.74331316e-07, 3.05565149e-06, 4.67164079e-06, 5.19470387e-06,\n",
              "       1.99865555e-06, 7.94192764e-06, 2.28219268e-06, 5.62508765e-06,\n",
              "       2.22243690e-06, 1.57409914e-06, 7.53147977e-06, 1.08570481e-06,\n",
              "       7.94192764e-06, 6.25490332e-06, 1.57409914e-06, 6.42308137e-06,\n",
              "       1.57409914e-06, 5.47780367e-06, 1.41560005e-06, 4.92623496e-06,\n",
              "       1.30728998e-06, 6.59578125e-06, 1.94632375e-06, 2.05239443e-06,\n",
              "       2.66071691e-07, 5.77633169e-06, 2.74797244e-06, 1.66941070e-05,\n",
              "       3.30881431e-06, 1.35014812e-05, 1.89536217e-06, 5.33437607e-06,\n",
              "       1.30728998e-06, 1.94632375e-06, 2.53772044e-06, 5.77633169e-06,\n",
              "       1.05727723e-06, 2.48543881e-05, 7.29236650e-07, 1.62570030e-05,\n",
              "       1.70451454e-06, 2.40656748e-06, 4.31420632e-06, 4.20124555e-06,\n",
              "       1.30728998e-06, 5.05868875e-06, 8.78069090e-07, 2.89773121e-06,\n",
              "       6.09112872e-06, 1.75034471e-06, 7.33428031e-06, 1.75034471e-06,\n",
              "       1.79740714e-06, 2.16424573e-06, 2.89773121e-06, 1.49274741e-06,\n",
              "       2.34355514e-06, 3.67928827e-06, 1.53288370e-06, 6.95523612e-06,\n",
              "       1.84573495e-06, 1.62570030e-05, 1.23972732e-06, 7.94192764e-06,\n",
              "       2.67602095e-06, 2.10757820e-06, 7.14224416e-06, 1.34243977e-06,\n",
              "       5.19470387e-06, 6.95523612e-06, 4.76982310e-07, 1.24684704e-05,\n",
              "       2.47127407e-06, 1.79740714e-06, 2.10757820e-06])"
            ]
          },
          "metadata": {},
          "execution_count": 158
        }
      ]
    },
    {
      "cell_type": "code",
      "source": [
        "np.rint(node.predict(X)) != y"
      ],
      "metadata": {
        "id": "qyh5HTkasV1W",
        "colab": {
          "base_uri": "https://localhost:8080/"
        },
        "outputId": "a71f3dca-d396-4f54-97b5-0c14553b7403"
      },
      "execution_count": 159,
      "outputs": [
        {
          "output_type": "execute_result",
          "data": {
            "text/plain": [
              "array([ True,  True,  True,  True,  True,  True,  True,  True,  True,\n",
              "        True,  True,  True,  True,  True,  True,  True,  True,  True,\n",
              "        True,  True,  True,  True,  True,  True,  True,  True,  True,\n",
              "        True,  True,  True,  True,  True,  True,  True,  True,  True,\n",
              "        True,  True,  True,  True,  True,  True,  True,  True,  True,\n",
              "        True,  True,  True,  True,  True,  True,  True,  True,  True,\n",
              "        True,  True,  True,  True,  True,  True,  True,  True,  True,\n",
              "        True,  True,  True,  True,  True,  True,  True,  True,  True,\n",
              "        True,  True,  True,  True,  True,  True,  True,  True,  True,\n",
              "        True,  True,  True,  True,  True,  True,  True,  True,  True,\n",
              "        True,  True,  True,  True,  True,  True,  True,  True,  True,\n",
              "        True,  True,  True,  True,  True,  True,  True,  True,  True,\n",
              "        True,  True,  True,  True,  True,  True,  True,  True,  True,\n",
              "        True,  True, False, False, False, False, False, False, False,\n",
              "       False, False, False, False, False, False, False, False, False,\n",
              "       False, False, False, False, False, False, False, False, False,\n",
              "       False, False, False, False, False, False, False, False, False,\n",
              "       False, False, False, False, False, False, False, False, False,\n",
              "       False, False, False, False, False, False, False, False, False,\n",
              "       False, False, False, False, False, False, False, False, False,\n",
              "       False, False, False, False, False, False, False])"
            ]
          },
          "metadata": {},
          "execution_count": 159
        }
      ]
    },
    {
      "cell_type": "code",
      "source": [
        "classification_error = (np.rint(node.predict(X)) != y).astype(int)\n",
        "print(f\"Classification Error = {sum(classification_error)/ len(y)}\")"
      ],
      "metadata": {
        "id": "p-0w7Wh1sXaf",
        "colab": {
          "base_uri": "https://localhost:8080/"
        },
        "outputId": "c93d2f7a-0d9c-413f-a958-a60541b0992f"
      },
      "execution_count": 160,
      "outputs": [
        {
          "output_type": "stream",
          "name": "stdout",
          "text": [
            "Classification Error = 0.6363636363636364\n"
          ]
        }
      ]
    },
    {
      "cell_type": "code",
      "source": [
        "node.plot_decision_boundary(X, y)\n",
        "plt.show()"
      ],
      "metadata": {
        "id": "CCEg9hhAsZFw"
      },
      "execution_count": null,
      "outputs": []
    },
    {
      "cell_type": "code",
      "source": [
        "# Instantiate a new single neuron.\n",
        "node_two = SingleNeuron(sigmoid, cross_entropy_loss)\n",
        "\n",
        "# Create a numpy.ndarray of petal length and sepal length values for\n",
        "# the versicolor and virginica flowers, respectively. \n",
        "X_two = df.iloc[50:][[\"petal_length\", \"sepal_length\"]].values\n",
        "\n",
        "# Train the new single neuron model on the new feature vectors.\n",
        "node_two.train(X_two, y, alpha = 0.01, epochs = 10_000)\n",
        "\n",
        "\n",
        "plt.figure(figsize = (10, 8))\n",
        "plt.plot(range(1, len(node.errors_) + 1), \n",
        "         node.errors_,\n",
        "         label = \"node Cross Entropy Loss\")\n",
        "plt.plot(range(1, len(node_two.errors_) + 1), \n",
        "         node_two.errors_,\n",
        "         label = \" node_two Cross Entropy Loss\")\n",
        "plt.xlabel(\"epochs\", fontsize = 15)\n",
        "plt.ylabel(\"Cross Entropy Loss\", fontsize = 15)\n",
        "plt.legend(fontsize = 15)\n",
        "plt.title(\"Model Cost Comparison During Training\", fontsize = 18)\n",
        "\n",
        "\n",
        "plt.show()"
      ],
      "metadata": {
        "id": "Z4sSEvUasbMk"
      },
      "execution_count": null,
      "outputs": []
    },
    {
      "cell_type": "code",
      "source": [
        "node_two.plot_decision_boundary(X_two, y)"
      ],
      "metadata": {
        "id": "8SXgVfvRsfWo"
      },
      "execution_count": null,
      "outputs": []
    },
    {
      "cell_type": "code",
      "source": [
        "def sign(z):\n",
        "    return np.sign(z)\n",
        "\n",
        "def MSE(y_hat, y):\n",
        "    return .5*(y_hat - y)**2\n",
        "\n",
        "# Instantiate a new single neuron.\n",
        "node_three = SingleNeuron(sign, MSE)\n",
        "\n",
        "# Create a numpy.ndarray of petal length and sepal length values for\n",
        "# the versicolor and virginica flowers, respectively. \n",
        "X_three = df.iloc[50:][[\"petal_length\", \"sepal_length\"]].values\n",
        "\n",
        "y_three = np.where(df.iloc[50:][\"species\"] == \"versicolor\", -1, 1)\n",
        "\n",
        "\n",
        "# Train the new single neuron model on the new feature vectors.\n",
        "node_three.train(X_three, y_three, alpha = 0.001, epochs = 5_000)\n",
        "\n",
        "node_three.plot_decision_boundary(X_three, y_three)\n",
        "plt.show()"
      ],
      "metadata": {
        "id": "_eGqQ2vwshVY"
      },
      "execution_count": null,
      "outputs": []
    },
    {
      "cell_type": "code",
      "source": [
        "node_three.plot_cost_function()"
      ],
      "metadata": {
        "id": "-G7TzACGsjRk"
      },
      "execution_count": null,
      "outputs": []
    },
    {
      "cell_type": "code",
      "source": [
        "def linear(z):\n",
        "    return z\n",
        "\n",
        "# Instantiate a new single neuron.\n",
        "node_four = SingleNeuron(linear, MSE)\n",
        "\n",
        "# Create a numpy.ndarray of petal length and sepal length values for\n",
        "# the versicolor and virginica flowers, respectively. \n",
        "X_four = df.iloc[0:50][\"sepal_length\"].values\n",
        "X_four = X_four.reshape(-1, 1)\n",
        "\n",
        "y_four = df.iloc[0:50][\"sepal_width\"].values\n",
        "\n",
        "\n",
        "# Train the new single neuron model on the new feature vectors.\n",
        "node_four.train(X_four, y_four, alpha = 0.001, epochs = 5_000)\n",
        "\n",
        "plt.figure(figsize = (10, 8))\n",
        "plt.scatter(X_four, y_four, label = \"setosa\", color = \"magenta\")\n",
        "\n",
        "domain = np.linspace(np.min(X_four), np.max(X_four), 50)\n",
        "plt.plot(domain, node_four.predict(domain.reshape(-1, 1)), label = \"regression line\")\n",
        "plt.show()"
      ],
      "metadata": {
        "id": "LEzH96RAslCW"
      },
      "execution_count": null,
      "outputs": []
    },
    {
      "cell_type": "code",
      "source": [],
      "metadata": {
        "id": "ChsUYaD4spB9"
      },
      "execution_count": null,
      "outputs": []
    }
  ]
}